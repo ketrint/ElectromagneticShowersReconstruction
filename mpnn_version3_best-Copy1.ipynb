{
 "cells": [
  {
   "cell_type": "code",
   "execution_count": 1,
   "metadata": {},
   "outputs": [],
   "source": [
    "import matplotlib.pyplot as plt\n",
    "import numpy as np\n",
    "import pandas as pd\n",
    "import seaborn as sns\n",
    "sns.set(font_scale=1)\n",
    "\n",
    "import torch\n",
    "import torch.nn as nn\n",
    "import torch.nn.functional as F\n",
    "import torch.optim as optim\n",
    "from torch.nn import Sequential\n",
    "\n",
    "import torch_geometric\n",
    "from torch_geometric.nn import MessagePassing\n",
    "from torch_geometric.utils import add_self_loops, degree\n",
    "import torch_geometric.transforms as T\n",
    "import torch_cluster\n",
    "\n",
    "from torch_geometric.nn import NNConv, GCNConv, GraphConv\n",
    "from torch_geometric.nn import PointConv, EdgeConv, SplineConv\n",
    "\n",
    "from sklearn.cluster import DBSCAN"
   ]
  },
  {
   "cell_type": "code",
   "execution_count": 2,
   "metadata": {},
   "outputs": [
    {
     "data": {
      "text/plain": [
       "4"
      ]
     },
     "execution_count": 2,
     "metadata": {},
     "output_type": "execute_result"
    }
   ],
   "source": [
    "torch.cuda.device_count()"
   ]
  },
  {
   "cell_type": "code",
   "execution_count": 3,
   "metadata": {},
   "outputs": [],
   "source": [
    "#device = torch.device('cuda:0')\n",
    "device = torch.device('cuda:0')"
   ]
  },
  {
   "cell_type": "code",
   "execution_count": 4,
   "metadata": {
    "scrolled": true
   },
   "outputs": [],
   "source": [
    "#!pip install --upgrade --force-reinstall torch-sparse && pip install --upgrade --force-reinstall torch-cluster && pip install --upgrade --force-reinstall torch-scatter && pip install --upgrade --force-reinstall torch-spline_conv && pip install --upgrade --force-reinstall torch-geometric"
   ]
  },
  {
   "cell_type": "markdown",
   "metadata": {},
   "source": [
    "## Download train data"
   ]
  },
  {
   "cell_type": "code",
   "execution_count": 12,
   "metadata": {},
   "outputs": [],
   "source": [
    "showers_train = torch.load('./data/showers_train.pt')"
   ]
  },
  {
   "cell_type": "code",
   "execution_count": 13,
   "metadata": {},
   "outputs": [],
   "source": [
    "showers_train = [shower.to(device) for shower in showers_train[:20]]"
   ]
  },
  {
   "cell_type": "code",
   "execution_count": 14,
   "metadata": {},
   "outputs": [
    {
     "data": {
      "text/plain": [
       "Data(edge_attr=[44065, 1], edge_index=[2, 44065], pos=[8816, 5], x=[8816, 5], y=[8816])"
      ]
     },
     "execution_count": 14,
     "metadata": {},
     "output_type": "execute_result"
    }
   ],
   "source": [
    "showers_train[0]"
   ]
  },
  {
   "cell_type": "code",
   "execution_count": 15,
   "metadata": {},
   "outputs": [
    {
     "data": {
      "text/plain": [
       "array([ 0,  1,  2,  3,  4,  5,  6,  7,  8,  9, 10, 11, 12, 13, 14, 15])"
      ]
     },
     "execution_count": 15,
     "metadata": {},
     "output_type": "execute_result"
    }
   ],
   "source": [
    "np.unique(showers_train[0].y.cpu().detach().numpy())"
   ]
  },
  {
   "cell_type": "markdown",
   "metadata": {},
   "source": [
    "## Features creation"
   ]
  },
  {
   "cell_type": "code",
   "execution_count": 16,
   "metadata": {},
   "outputs": [],
   "source": [
    "for i in range(len(showers_train)):\n",
    "    data = showers_train[i].x\n",
    "    \n",
    "    shape_0 = data.shape[0]\n",
    "    \n",
    "    #azimuthal_angle\n",
    "    feat_0 = torch.atan(data[:, 1]/data[:, 0]).view(shape_0,1)\n",
    "    \n",
    "    feat_1 = (torch.sqrt(torch.pow(data[:, 1], 2) + torch.pow(data[:, 0],2))\n",
    "              /data[:, 2]).view(shape_0,1)\n",
    "    \n",
    "    feat_2 = (data[:, 0]/data[:, 2]).view(shape_0,1)\n",
    "    \n",
    "    feat_3 = (data[:, 1]/data[:, 2]).view(shape_0,1)\n",
    "    \n",
    "    feat_4 = (torch.sin(feat_0) + torch.cos(feat_0))/feat_0\n",
    "    \n",
    "    showers_train[i].x = torch.cat((data, feat_0, feat_1, feat_2, feat_3, feat_4), 1)"
   ]
  },
  {
   "cell_type": "code",
   "execution_count": 17,
   "metadata": {},
   "outputs": [
    {
     "data": {
      "text/plain": [
       "10"
      ]
     },
     "execution_count": 17,
     "metadata": {},
     "output_type": "execute_result"
    }
   ],
   "source": [
    "showers_train[0].x.shape[1]"
   ]
  },
  {
   "cell_type": "markdown",
   "metadata": {},
   "source": [
    "## Checking weather edges connect hits from the same shower"
   ]
  },
  {
   "cell_type": "markdown",
   "metadata": {},
   "source": [
    "We need to compare Z-coordinates of each brick layer with our data Z-coordinate"
   ]
  },
  {
   "cell_type": "code",
   "execution_count": 18,
   "metadata": {},
   "outputs": [],
   "source": [
    "Z = np.array([     0.,   1293.,   2586.,   3879.,   5172.,   6465.,   7758.,\n",
    "                          9051.,  10344.,  11637.,  12930.,  14223.,  15516.,  16809.,\n",
    "                         18102.,  19395.,  20688.,  21981.,  23274.,  24567.,  25860.,\n",
    "                         27153.,  28446.,  29739.,  31032.,  32325.,  33618.,  34911.,\n",
    "                         36204.,  37497.,  38790.,  40083.,  41376.,  42669.,  43962.,\n",
    "                         45255.,  46548.,  47841.,  49134.,  50427.,  51720.,  53013.,\n",
    "                         54306.,  55599.,  56892.,  58185.,  59478.,  60771.,  62064.,\n",
    "                         63357.,  64650.,  65943.,  67236.,  68529.,  69822.,  71115.,\n",
    "                         72408.,  73701.])"
   ]
  },
  {
   "cell_type": "code",
   "execution_count": 19,
   "metadata": {},
   "outputs": [],
   "source": [
    "Z_centered = Z - 73701. / 2"
   ]
  },
  {
   "cell_type": "code",
   "execution_count": 20,
   "metadata": {},
   "outputs": [
    {
     "data": {
      "text/plain": [
       "array([-36850.5, -35557.5, -34264.5, -32971.5, -31678.5, -30385.5,\n",
       "       -29092.5, -27799.5, -26506.5, -25213.5, -23920.5, -22627.5,\n",
       "       -21334.5, -20041.5, -18748.5, -17455.5, -16162.5, -14869.5,\n",
       "       -13576.5, -12283.5, -10990.5,  -9697.5,  -8404.5,  -7111.5,\n",
       "        -5818.5,  -4525.5,  -3232.5,  -1939.5,   -646.5,    646.5,\n",
       "         1939.5,   3232.5,   4525.5,   5818.5,   7111.5,   8404.5,\n",
       "         9697.5,  10990.5,  12283.5,  13576.5,  14869.5,  16162.5,\n",
       "        17455.5,  18748.5,  20041.5,  21334.5,  22627.5,  23920.5,\n",
       "        25213.5,  26506.5,  27799.5,  29092.5,  30385.5,  31678.5,\n",
       "        32971.5,  34264.5,  35557.5,  36850.5])"
      ]
     },
     "execution_count": 20,
     "metadata": {},
     "output_type": "execute_result"
    }
   ],
   "source": [
    "Z_centered"
   ]
  },
  {
   "cell_type": "code",
   "execution_count": 21,
   "metadata": {},
   "outputs": [],
   "source": [
    "Z_0 = np.array(showers_train[0].x[:, 2].cpu())*np.array([1e4])"
   ]
  },
  {
   "cell_type": "code",
   "execution_count": 22,
   "metadata": {},
   "outputs": [
    {
     "data": {
      "image/png": "[encoded data removed]",
      "text/plain": [
       "<Figure size 720x360 with 1 Axes>"
      ]
     },
     "metadata": {
      "needs_background": "light"
     },
     "output_type": "display_data"
    }
   ],
   "source": [
    "plt.figure(figsize=(10, 5))\n",
    "\n",
    "# the histogram of the data\n",
    "plt.hist(Z_0, 100, density=True)\n",
    "\n",
    "plt.grid(True)\n",
    "plt.show()\n"
   ]
  },
  {
   "cell_type": "markdown",
   "metadata": {},
   "source": [
    "## Masks for activating only those edges that are connecting the same shower"
   ]
  },
  {
   "cell_type": "code",
   "execution_count": 23,
   "metadata": {},
   "outputs": [],
   "source": [
    "def round_Z_coodr(x):\n",
    "        return Z_centered[np.argmin(np.abs(Z_centered - x))]\n",
    "round_Z_coodr = np.vectorize(round_Z_coodr)\n",
    "    \n",
    "def mask(data):\n",
    "    x = data.x[:, 2]\n",
    "    \n",
    "    Z_0 = np.array(x.cpu()) * np.array([1e4])\n",
    "    \n",
    "    z_rounded = round_Z_coodr(Z_0)\n",
    "    \n",
    "    orders = np.zeros((len(Z_centered), data.edge_index.shape[1]))\n",
    "\n",
    "    for i, z_i in enumerate(Z_centered):\n",
    "        for j, z_0_i in enumerate(z_rounded):\n",
    "            if z_0_i == z_i:\n",
    "                # TODO data.edge_index[0] vs data.edge_index[1]\n",
    "                orders[i][(data.edge_index[0] == j).cpu().numpy().astype(bool)] = 1\n",
    "            \n",
    "    return orders.astype(np.uint8)"
   ]
  },
  {
   "cell_type": "code",
   "execution_count": 24,
   "metadata": {},
   "outputs": [],
   "source": [
    "masks = []\n",
    "for i in range(len(showers_train)):\n",
    "    masks.append(mask(showers_train[i]))"
   ]
  },
  {
   "cell_type": "markdown",
   "metadata": {},
   "source": [
    "## GNN "
   ]
  },
  {
   "cell_type": "code",
   "execution_count": 25,
   "metadata": {},
   "outputs": [],
   "source": [
    "class EmulsionConv(MessagePassing):\n",
    "    def __init__(self, in_channels, out_channels):\n",
    "        super().__init__(aggr='add')\n",
    "        self.mp = torch.nn.Linear(in_channels * 2, out_channels)\n",
    "        \n",
    "    def forward(self, x, edge_index, orders):\n",
    "        for order in orders: \n",
    "            x = self.propagate('add', \n",
    "                               torch.index_select(edge_index[:, torch.ByteTensor(order)], \n",
    "                                                  0, \n",
    "                                                  torch.LongTensor([1, 0]).to(device)), x=x)     \n",
    "        return x\n",
    "\n",
    "    def message(self, x_j, x_i):\n",
    "        return self.mp(torch.cat([x_i, x_j - x_i], dim=1))\n",
    "\n",
    "    def update(self, aggr_out, x):\n",
    "        return aggr_out + x"
   ]
  },
  {
   "cell_type": "code",
   "execution_count": 33,
   "metadata": {},
   "outputs": [],
   "source": [
    "n = showers_train[0].x.shape[1]\n",
    "\n",
    "class GraphNN_KNN(torch.nn.Module):\n",
    "    n = showers_train[0].x.shape[1]\n",
    "    \n",
    "    def __init__(self, k=n, dim_out=10):\n",
    "        super().__init__()\n",
    "        self.k = k\n",
    "        \n",
    "        self.emconv = EmulsionConv(self.k, self.k)    \n",
    "        \n",
    "        \n",
    "        #self.conv2 = GCNConv(18, 36)\n",
    "        #self.conv3 = GCNConv(36, 18)\n",
    "        #self.conv4 = GCNConv(18, dim_out)\n",
    "        \n",
    "        \n",
    "        self.layer_2 = nn.Linear(self.k, 18)\n",
    "        self.nonlinear_2 = nn.LeakyReLU()\n",
    "        \n",
    "        self.layer_3 = nn.Linear(18, 24)\n",
    "        self.nonlinear_3 = nn.ReLU()\n",
    "        \n",
    "        #self.conv1 = GCNConv(24, 18)\n",
    "        \n",
    "        self.output = nn.Linear(24, dim_out)\n",
    "        \n",
    "        \n",
    "    def forward(self, data, mask):\n",
    "        x, edge_index, orders = data.x, data.edge_index, mask\n",
    "        \n",
    "        x = self.emconv(x=x, edge_index=edge_index, orders=orders)  \n",
    "        \n",
    "        #x = self.conv1(x, edge_index)\n",
    "        #x = F.relu(x)\n",
    "        #x = F.dropout(x, training=self.training)\n",
    "        #x = self.conv2(x, edge_index)\n",
    "        #x = self.conv3(x, edge_index)\n",
    "        #x = F.relu(x)\n",
    "        #x = F.dropout(x, training=self.training)\n",
    "        #x = self.conv4(x, edge_index)\n",
    "        #x = F.leaky_relu(x)\n",
    "        #x = F.dropout(x, training=self.training)\n",
    "       \n",
    "        \n",
    "        \n",
    "        x = self.nonlinear_2(self.layer_2(x))\n",
    "        \n",
    "        x = self.nonlinear_3(self.layer_3(x))\n",
    "        \n",
    "        #x = self.conv1(x, edge_index)\n",
    "        #x = F.relu(x)\n",
    "        #x = F.dropout(x, training=self.training)\n",
    "        \n",
    "        return self.output(x)\n"
   ]
  },
  {
   "cell_type": "code",
   "execution_count": 34,
   "metadata": {},
   "outputs": [],
   "source": [
    "model = GraphNN_KNN(dim_out=288).to(device)"
   ]
  },
  {
   "cell_type": "code",
   "execution_count": 35,
   "metadata": {},
   "outputs": [],
   "source": [
    "learning_rate = 1e-2\n",
    "optimizer = torch.optim.Adam(model.parameters(),lr=learning_rate)"
   ]
  },
  {
   "cell_type": "code",
   "execution_count": 36,
   "metadata": {},
   "outputs": [
    {
     "name": "stdout",
     "output_type": "stream",
     "text": [
      "Batch(batch=[25276], edge_attr=[126335, 1], edge_index=[2, 126335], pos=[25276, 5], x=[25276, 10], y=[25276])\n",
      "3\n"
     ]
    }
   ],
   "source": [
    "from torch_geometric.data import DataLoader\n",
    "\n",
    "\n",
    "loader = DataLoader(showers_train, batch_size=50, shuffle=False)\n",
    "\n",
    "for batch in loader:\n",
    "    print(batch)\n",
    "    \n",
    "    print(batch.num_graphs)   "
   ]
  },
  {
   "cell_type": "code",
   "execution_count": 37,
   "metadata": {},
   "outputs": [
    {
     "data": {
      "text/plain": [
       "[Data(edge_attr=[44065, 1], edge_index=[2, 44065], pos=[8816, 5], x=[8816, 10], y=[8816]),\n",
       " Data(edge_attr=[31765, 1], edge_index=[2, 31765], pos=[6356, 5], x=[6356, 10], y=[6356]),\n",
       " Data(edge_attr=[50505, 1], edge_index=[2, 50505], pos=[10104, 5], x=[10104, 10], y=[10104])]"
      ]
     },
     "execution_count": 37,
     "metadata": {},
     "output_type": "execute_result"
    }
   ],
   "source": [
    "showers_train"
   ]
  },
  {
   "cell_type": "code",
   "execution_count": 38,
   "metadata": {},
   "outputs": [],
   "source": [
    "Mask = np.concatenate((masks[0], masks[1], masks[2]), axis=1, out=None)"
   ]
  },
  {
   "cell_type": "markdown",
   "metadata": {},
   "source": [
    "----------------"
   ]
  },
  {
   "cell_type": "code",
   "execution_count": 39,
   "metadata": {},
   "outputs": [
    {
     "name": "stdout",
     "output_type": "stream",
     "text": [
      "#500, Train loss: 0.5275328\n"
     ]
    },
    {
     "data": {
      "image/png": "[encoded data removed]",
      "text/plain": [
       "<Figure size 432x288 with 1 Axes>"
      ]
     },
     "metadata": {
      "needs_background": "light"
     },
     "output_type": "display_data"
    }
   ],
   "source": [
    "from IPython.display import clear_output\n",
    "\n",
    "criterion = nn.BCELoss()\n",
    "edge_classifier = nn.Sequential(nn.Linear(288*2, 144),\n",
    "                                nn.Tanh(),\n",
    "                                nn.Linear(144, 144),\n",
    "                                nn.Tanh(),\n",
    "                                nn.Linear(144, 32),\n",
    "                                nn.Tanh(),\n",
    "                                nn.Linear(32, 1),\n",
    "                                nn.Sigmoid()).to(device)\n",
    "\n",
    "\n",
    "\n",
    "from tqdm import tqdm\n",
    "\n",
    "n_epoch = 500\n",
    "\n",
    "losses = []\n",
    "    \n",
    "for i in range(n_epoch):\n",
    "    for shower in loader:\n",
    "        \n",
    "        optimizer.zero_grad()\n",
    "\n",
    "        embeddings = model(shower, Mask)\n",
    "\n",
    "\n",
    "        edge_labels = (shower.y[shower.edge_index[0]] \n",
    "                       == shower.y[shower.edge_index[1]])  \n",
    "\n",
    "\n",
    "\n",
    "        edge_data = torch.cat([embeddings[shower.edge_index[0]], \n",
    "                               embeddings[shower.edge_index[1]]], dim=1)\n",
    "\n",
    "\n",
    "        edge_predicted = edge_classifier(edge_data)\n",
    "\n",
    "        loss = criterion(edge_predicted.view(-1), edge_labels.view(-1).float())\n",
    "\n",
    "        loss.backward()\n",
    "        \n",
    "        \n",
    "\n",
    "        losses.append(loss.detach().cpu().numpy())\n",
    "        optimizer.step()\n",
    "        optimizer.zero_grad()\n",
    "    \n",
    "    \n",
    "    \n",
    "    clear_output()\n",
    "    \n",
    "    print(\"#%i, Train loss: %.7f\"%(i+1,np.mean(losses)),flush=True)\n",
    "    \n",
    "    plt.plot(losses, label='train');\n",
    "    plt.show()\n",
    "    \n",
    "    \n",
    "\n",
    "    \n",
    "    "
   ]
  },
  {
   "cell_type": "code",
   "execution_count": 40,
   "metadata": {},
   "outputs": [],
   "source": [
    "learning_rate = 1e-2\n",
    "optimizer = torch.optim.Adam(model.parameters(),lr=learning_rate)"
   ]
  },
  {
   "cell_type": "code",
   "execution_count": 41,
   "metadata": {},
   "outputs": [
    {
     "name": "stdout",
     "output_type": "stream",
     "text": [
      "#300, Train loss: 0.4967200\n"
     ]
    },
    {
     "data": {
      "image/png": "[encoded data removed]",
      "text/plain": [
       "<Figure size 432x288 with 1 Axes>"
      ]
     },
     "metadata": {
      "needs_background": "light"
     },
     "output_type": "display_data"
    }
   ],
   "source": [
    "n_epoch = 300\n",
    "\n",
    "losses = []\n",
    "    \n",
    "for i in range(n_epoch):\n",
    "    for shower in loader:\n",
    "        \n",
    "        optimizer.zero_grad()\n",
    "\n",
    "        embeddings = model(shower, Mask)\n",
    "\n",
    "\n",
    "        edge_labels = (shower.y[shower.edge_index[0]] \n",
    "                       == shower.y[shower.edge_index[1]])  \n",
    "\n",
    "\n",
    "\n",
    "        edge_data = torch.cat([embeddings[shower.edge_index[0]], \n",
    "                               embeddings[shower.edge_index[1]]], dim=1)\n",
    "\n",
    "\n",
    "        edge_predicted = edge_classifier(edge_data)\n",
    "\n",
    "        loss = criterion(edge_predicted.view(-1), edge_labels.view(-1).float())\n",
    "\n",
    "        loss.backward()\n",
    "        \n",
    "        \n",
    "\n",
    "        losses.append(loss.detach().cpu().numpy())\n",
    "        optimizer.step()\n",
    "        optimizer.zero_grad()\n",
    "    \n",
    "    clear_output()\n",
    "    \n",
    "    print(\"#%i, Train loss: %.7f\"%(i+1,np.mean(losses)),flush=True)\n",
    "    \n",
    "    plt.plot(losses, label='train');\n",
    "    plt.show()\n",
    "    \n",
    "    \n",
    "    "
   ]
  },
  {
   "cell_type": "code",
   "execution_count": 45,
   "metadata": {},
   "outputs": [],
   "source": [
    "learning_rate = 1e-5\n",
    "optimizer = torch.optim.Adam(model.parameters(),lr=learning_rate)"
   ]
  },
  {
   "cell_type": "code",
   "execution_count": 46,
   "metadata": {},
   "outputs": [
    {
     "name": "stdout",
     "output_type": "stream",
     "text": [
      "#100, Train loss: 0.4928813\n"
     ]
    },
    {
     "data": {
      "image/png": "[encoded data removed]",
      "text/plain": [
       "<Figure size 432x288 with 1 Axes>"
      ]
     },
     "metadata": {
      "needs_background": "light"
     },
     "output_type": "display_data"
    }
   ],
   "source": [
    "n_epoch = 100\n",
    "\n",
    "losses = []\n",
    "    \n",
    "for i in range(n_epoch):\n",
    "    for shower in loader:\n",
    "        \n",
    "        optimizer.zero_grad()\n",
    "\n",
    "        embeddings = model(shower, Mask)\n",
    "\n",
    "\n",
    "        edge_labels = (shower.y[shower.edge_index[0]] \n",
    "                       == shower.y[shower.edge_index[1]])  \n",
    "\n",
    "\n",
    "\n",
    "        edge_data = torch.cat([embeddings[shower.edge_index[0]], \n",
    "                               embeddings[shower.edge_index[1]]], dim=1)\n",
    "\n",
    "\n",
    "        edge_predicted = edge_classifier(edge_data)\n",
    "\n",
    "        loss = criterion(edge_predicted.view(-1), edge_labels.view(-1).float())\n",
    "\n",
    "        loss.backward()\n",
    "        \n",
    "        \n",
    "\n",
    "        losses.append(loss.detach().cpu().numpy())\n",
    "        optimizer.step()\n",
    "        optimizer.zero_grad()\n",
    "    \n",
    "    clear_output()\n",
    "    \n",
    "    print(\"#%i, Train loss: %.7f\"%(i+1,np.mean(losses)),flush=True)\n",
    "    \n",
    "    plt.plot(losses, label='train');\n",
    "    plt.show()\n",
    "    \n",
    "    \n",
    "    "
   ]
  },
  {
   "cell_type": "code",
   "execution_count": 49,
   "metadata": {},
   "outputs": [],
   "source": [
    "learning_rate = 1e-2\n",
    "optimizer = torch.optim.Adam(model.parameters(),lr=learning_rate)"
   ]
  },
  {
   "cell_type": "code",
   "execution_count": null,
   "metadata": {},
   "outputs": [
    {
     "name": "stdout",
     "output_type": "stream",
     "text": [
      "#2662, Train loss: 0.4856790\n"
     ]
    }
   ],
   "source": [
    "n_epoch = 3000\n",
    "\n",
    "losses = []\n",
    "    \n",
    "for i in range(n_epoch):\n",
    "    for shower in loader:\n",
    "        \n",
    "        optimizer.zero_grad()\n",
    "\n",
    "        embeddings = model(shower, Mask)\n",
    "\n",
    "\n",
    "        edge_labels = (shower.y[shower.edge_index[0]] \n",
    "                       == shower.y[shower.edge_index[1]])  \n",
    "\n",
    "\n",
    "\n",
    "        edge_data = torch.cat([embeddings[shower.edge_index[0]], \n",
    "                               embeddings[shower.edge_index[1]]], dim=1)\n",
    "\n",
    "\n",
    "        edge_predicted = edge_classifier(edge_data)\n",
    "\n",
    "        loss = criterion(edge_predicted.view(-1), edge_labels.view(-1).float())\n",
    "\n",
    "        loss.backward()\n",
    "        \n",
    "        \n",
    "\n",
    "        losses.append(loss.detach().cpu().numpy())\n",
    "        optimizer.step()\n",
    "        optimizer.zero_grad()\n",
    "    \n",
    "    clear_output()\n",
    "    \n",
    "    print(\"#%i, Train loss: %.7f\"%(i+1,np.mean(losses)),flush=True)\n",
    "    \n",
    "    plt.plot(losses, label='train');\n",
    "    plt.show()\n",
    "    \n",
    "    \n",
    "    "
   ]
  },
  {
   "cell_type": "code",
   "execution_count": null,
   "metadata": {},
   "outputs": [],
   "source": [
    "embeddings = []\n",
    "\n",
    "from tqdm import tqdm\n",
    "for i in tqdm(range(len(showers_train))):\n",
    "    mask = masks[i % len(showers_train)]\n",
    "    shower = showers_train[i % len(showers_train)]\n",
    "    embeddings.append(model(shower, mask).cpu())"
   ]
  },
  {
   "cell_type": "code",
   "execution_count": null,
   "metadata": {},
   "outputs": [],
   "source": [
    "predicted_labels = []\n",
    "\n",
    "for embedding in embeddings:\n",
    "    data = np.nan_to_num(embedding.cpu().detach().numpy())\n",
    "    dbscan = DBSCAN()\n",
    "    pred = dbscan.fit_predict(data)\n",
    "    predicted_labels.append(pred)"
   ]
  },
  {
   "cell_type": "code",
   "execution_count": null,
   "metadata": {},
   "outputs": [],
   "source": [
    "for i in range(len(predicted_labels)):\n",
    "    print(i, len(np.unique(predicted_labels[i])))\n"
   ]
  },
  {
   "cell_type": "markdown",
   "metadata": {},
   "source": [
    "_________________"
   ]
  },
  {
   "cell_type": "code",
   "execution_count": null,
   "metadata": {},
   "outputs": [],
   "source": []
  },
  {
   "cell_type": "code",
   "execution_count": null,
   "metadata": {},
   "outputs": [],
   "source": []
  }
 ],
 "metadata": {
  "kernelspec": {
   "display_name": "Python 3",
   "language": "python",
   "name": "python3"
  },
  "language_info": {
   "codemirror_mode": {
    "name": "ipython",
    "version": 3
   },
   "file_extension": ".py",
   "mimetype": "text/x-python",
   "name": "python",
   "nbconvert_exporter": "python",
   "pygments_lexer": "ipython3",
   "version": "3.6.7"
  }
 },
 "nbformat": 4,
 "nbformat_minor": 2
}
