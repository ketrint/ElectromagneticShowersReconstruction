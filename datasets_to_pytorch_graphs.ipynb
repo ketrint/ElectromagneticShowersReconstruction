{
 "cells": [
  {
   "cell_type": "code",
   "execution_count": 1,
   "metadata": {},
   "outputs": [
    {
     "name": "stdout",
     "output_type": "stream",
     "text": [
      "running build_ext\r\n"
     ]
    }
   ],
   "source": [
    "import matplotlib.pyplot as plt\n",
    "import numpy as np\n",
    "import pandas as pd\n",
    "import seaborn as sns\n",
    "from tqdm import tqdm\n",
    "import networkx as nx\n",
    "import uproot\n",
    "from collections import deque\n",
    "from tools.opera_distance_metric import generate_k_nearest_graph, opera_distance_metric_py, generate_radius_graph\n",
    "!cd tools/ && python setup_opera_distance_metric.py build_ext --inplace\n",
    "\n",
    "\n",
    "import torch\n",
    "import torch_scatter\n",
    "import torch_geometric\n",
    "from torch_geometric.data import Data\n",
    "from sklearn.neighbors import NearestNeighbors\n",
    "from tqdm import tqdm"
   ]
  },
  {
   "cell_type": "code",
   "execution_count": 2,
   "metadata": {},
   "outputs": [],
   "source": [
    "a = np.array([0, 0, 0, 0, 0, 0.])\n",
    "assert np.allclose(opera_distance_metric_py(a, \n",
    "                                         a + np.array([0, 0, 0, 3, 0, 0])), \n",
    "                   0)\n",
    "assert np.allclose(opera_distance_metric_py(a, \n",
    "                                         a + np.array([0, 0, 2, 3, 0, 0])), \n",
    "                   6 / 1293)\n",
    "assert np.allclose(opera_distance_metric_py(a, \n",
    "                                         a + np.array([0, 1, 2, 3, 0, 0])), \n",
    "                   np.sqrt(1 + 2**2) * 3 / 1293)\n",
    "assert np.allclose(opera_distance_metric_py(a, \n",
    "                                         a + np.array([0, 0, 0, 3, 1e-1, 0])), \n",
    "                   1e-1 * 3**2 / 2 / 1293, atol=1e-3, rtol=1e-4)\n",
    "assert np.allclose(opera_distance_metric_py(a, \n",
    "                                         a + np.array([0, 0, 0, 3, 1e-1, 1e-2])), \n",
    "                   np.sqrt(0.1**2 + 0.01**2) * 3**2 / 2 / 1293, atol=1e-3, rtol=1e-4)"
   ]
  },
  {
   "cell_type": "code",
   "execution_count": 3,
   "metadata": {},
   "outputs": [],
   "source": [
    "def load_mc(filename=\"./EM_data/mcdata_taue2.root\", step=1):\n",
    "    f = uproot.open(filename)\n",
    "    mc = f['Data'].pandas.df([\"Event_id\", \"ele_P\", \"BT_X\", \"BT_Y\",\n",
    "                              \"BT_Z\",\"BT_SX\", \"BT_SY\",\"ele_x\", \n",
    "                              \"ele_y\", \"ele_z\", \"ele_sx\", \"ele_sy\", \"chisquare\", ], flatten=False)\n",
    "    pmc = pd.DataFrame(mc)\n",
    "    pmc['numtracks'] = pmc.BT_X.apply(lambda x: len(x))\n",
    "    # cuts\n",
    "    shapechange = [pmc.shape[0]]\n",
    "    pmc = pmc[pmc.ele_P > 0.1]\n",
    "    shapechange.append(pmc.shape[0])\n",
    "\n",
    "    pmc = pmc[pmc.ele_z < 0]\n",
    "    shapechange.append(pmc.shape[0])\n",
    "\n",
    "    pmc = pmc[pmc.numtracks > 3]\n",
    "    shapechange.append(pmc.shape[0])\n",
    "    print(\"numtracks reduction by cuts: \", shapechange)\n",
    "    pmc['m_BT_X'] = pmc.BT_X.apply(lambda x: x.mean())\n",
    "    pmc['m_BT_Y'] = pmc.BT_Y.apply(lambda x: x.mean())\n",
    "    pmc['m_BT_Z'] = pmc.BT_Z.apply(lambda x: x.mean())\n",
    "\n",
    "    print(\"len(pmc): {len}\".format(len=len(pmc)))\n",
    "    return pmc"
   ]
  },
  {
   "cell_type": "code",
   "execution_count": 4,
   "metadata": {},
   "outputs": [],
   "source": [
    "from collections import defaultdict\n",
    "\n",
    "def pmc_to_ship_format(pmc):\n",
    "    showers = defaultdict(list)\n",
    "    for i, idx in enumerate(pmc.index):\n",
    "        shower = pmc.loc[idx]\n",
    "        n = len(shower['BT_X'])\n",
    "        showers['SX'].extend(shower['BT_X'])\n",
    "        showers['SY'].extend(shower['BT_Y'])\n",
    "        showers['SZ'].extend(shower['BT_Z'])\n",
    "        showers['TX'].extend(shower['BT_SX'])\n",
    "        showers['TY'].extend(shower['BT_SY'])\n",
    "        \n",
    "        showers['ele_P'].extend(n * [shower['ele_P']])\n",
    "        showers['ele_SX'].extend(n * [shower['ele_x']])\n",
    "        showers['ele_SY'].extend(n * [shower['ele_y']])\n",
    "        showers['ele_SZ'].extend(n * [shower['ele_z']])\n",
    "        showers['ele_TX'].extend(n * [shower['ele_sx']])\n",
    "        showers['ele_TY'].extend(n * [shower['ele_sy']])\n",
    "\n",
    "        showers['numtracks'].extend(n * [n])\n",
    "        showers['signal'].extend(n * [i % NUM_SHOWERS_IN_BRICK])\n",
    "        showers['brick_id'].extend(n * [i // NUM_SHOWERS_IN_BRICK])\n",
    "\n",
    "    return showers"
   ]
  },
  {
   "cell_type": "code",
   "execution_count": 5,
   "metadata": {},
   "outputs": [],
   "source": [
    "from joblib import Parallel, delayed\n",
    "\n",
    "def gen_one_shower(df_brick, knn=False, r=250, k=5, directed=False, e = 0.00005, scale=1e4):\n",
    "    from tools.opera_distance_metric import generate_k_nearest_graph, opera_distance_metric_py, generate_radius_graph\n",
    "    if knn:\n",
    "        edges_from, edge_to, dist = generate_k_nearest_graph(df_brick[[\"brick_id\", \"SX\", \"SY\", \"SZ\", \"TX\", \"TY\"]].values, \n",
    "                                                             k, e=e,\n",
    "                                                             symmetric=directed);\n",
    "        edges = np.vstack([edges_from, edge_to])\n",
    "        dist = np.array(dist)\n",
    "        edge_index = torch.LongTensor(edges)\n",
    "    else:\n",
    "        edges_from, edge_to, dist = generate_radius_graph(df_brick[[\"brick_id\", \"SX\", \"SY\", \"SZ\", \"TX\", \"TY\"]].values, \n",
    "                                                          r, e=e,\n",
    "                                                          symmetric=directed);\n",
    "        edges = np.vstack([edges_from, edge_to])\n",
    "        dist = np.array(dist)\n",
    "        edge_index = torch.LongTensor(edges)\n",
    "\n",
    "    x = torch.FloatTensor(df_brick[[\"SX\", \"SY\", \"SZ\", \"TX\", \"TY\"]].values / np.array([scale, scale, scale, 1., 1.]))\n",
    "    shower_data = torch.FloatTensor(\n",
    "        df_brick[[\"ele_P\", \"ele_SX\", \"ele_SY\", \"ele_SZ\", \"ele_TX\", \"ele_TY\", \"numtracks\", \"signal\"]].values  / np.array([1., scale, scale, scale, 1., 1., 1., 1.]) )\n",
    "    edge_attr = torch.log(torch.FloatTensor(dist).view(-1, 1))\n",
    "    y = torch.LongTensor(df_brick.signal.values)\n",
    "    shower = torch_geometric.data.Data(x=x, \n",
    "                                       edge_index=edge_index,\n",
    "                                       shower_data=shower_data,                                           \n",
    "                                       pos=x, \n",
    "                                       edge_attr=edge_attr, \n",
    "                                       y=y)\n",
    "    return shower\n",
    "    \n",
    "def gen_torch_showers(df, knn=False, r=250, k=5, directed=False, e = 0.00005, scale=1e4):\n",
    "    df_bricks = [df[df.brick_id == brick_id] for brick_id in list(df.brick_id.unique())[:3]]\n",
    "    showers = Parallel(n_jobs=10)(delayed(gen_one_shower)(df_brick, knn=knn, r=r, k=k, directed=directed, e=e, scale=scale) for df_brick in df_bricks)\n",
    "    return showers"
   ]
  },
  {
   "cell_type": "code",
   "execution_count": 6,
   "metadata": {},
   "outputs": [
    {
     "name": "stdout",
     "output_type": "stream",
     "text": [
      "numtracks reduction by cuts:  [18724, 18679, 9616, 9106]\n",
      "len(pmc): 9106\n",
      "CPU times: user 3.76 s, sys: 76 ms, total: 3.84 s\n",
      "Wall time: 3.82 s\n"
     ]
    }
   ],
   "source": [
    "%%time\n",
    "pmc = load_mc(filename='./data/mcdata_taue2.root', step=1)\n",
    "pmc = pmc.loc[(pmc[\"BT_X\"].apply(lambda x: len(x)) > 70) & (pmc[\"BT_X\"].apply(lambda x: len(x)) < 3000), :]"
   ]
  },
  {
   "cell_type": "code",
   "execution_count": 9,
   "metadata": {},
   "outputs": [
    {
     "name": "stdout",
     "output_type": "stream",
     "text": [
      "CPU times: user 13.6 s, sys: 1.79 s, total: 15.4 s\n",
      "Wall time: 15.4 s\n"
     ]
    }
   ],
   "source": [
    "%%time\n",
    "NUM_SHOWERS_IN_BRICK = 200\n",
    "showers = pmc_to_ship_format(pmc)\n",
    "df = pd.DataFrame(showers)"
   ]
  },
  {
   "cell_type": "code",
   "execution_count": null,
   "metadata": {},
   "outputs": [],
   "source": [
    "%%time\n",
    "showers_train=gen_torch_showers(df=df, knn=True, k=10, directed=False, e=10)"
   ]
  },
  {
   "cell_type": "code",
   "execution_count": null,
   "metadata": {},
   "outputs": [],
   "source": [
    "torch.save(showers_train, './EM_data/train_.pt')"
   ]
  },
  {
   "cell_type": "code",
   "execution_count": null,
   "metadata": {},
   "outputs": [],
   "source": []
  },
  {
   "cell_type": "code",
   "execution_count": null,
   "metadata": {},
   "outputs": [],
   "source": []
  },
  {
   "cell_type": "code",
   "execution_count": null,
   "metadata": {},
   "outputs": [],
   "source": []
  }
 ],
 "metadata": {
  "kernelspec": {
   "display_name": "Python 3",
   "language": "python",
   "name": "python3"
  },
  "language_info": {
   "codemirror_mode": {
    "name": "ipython",
    "version": 3
   },
   "file_extension": ".py",
   "mimetype": "text/x-python",
   "name": "python",
   "nbconvert_exporter": "python",
   "pygments_lexer": "ipython3",
   "version": "3.6.8"
  }
 },
 "nbformat": 4,
 "nbformat_minor": 2
}
