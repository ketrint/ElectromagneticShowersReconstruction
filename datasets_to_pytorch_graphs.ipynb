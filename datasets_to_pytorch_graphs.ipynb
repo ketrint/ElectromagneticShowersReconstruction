{
 "cells": [
  {
   "cell_type": "code",
   "execution_count": 1,
   "metadata": {},
   "outputs": [],
   "source": [
    "import matplotlib.pyplot as plt\n",
    "import numpy as np\n",
    "import pandas as pd\n",
    "import seaborn as sns\n",
    "from tqdm import tqdm\n",
    "import networkx as nx\n",
    "\n",
    "import uproot\n",
    "\n",
    "from collections import deque\n",
    "\n",
    "from create_train_test_dataset import scale_data, gen_bricks\n",
    "sns.set(font_scale=2)"
   ]
  },
  {
   "cell_type": "code",
   "execution_count": 2,
   "metadata": {},
   "outputs": [
    {
     "name": "stdout",
     "output_type": "stream",
     "text": [
      "running build_ext\r\n"
     ]
    }
   ],
   "source": [
    "!cd tools/ && python setup_opera_distance_metric.py build_ext --inplace"
   ]
  },
  {
   "cell_type": "code",
   "execution_count": 3,
   "metadata": {},
   "outputs": [],
   "source": [
    "from tools.opera_distance_metric import generate_k_nearest_graph, opera_distance_metric_py, generate_radius_graph"
   ]
  },
  {
   "cell_type": "code",
   "execution_count": 4,
   "metadata": {},
   "outputs": [],
   "source": [
    "a = np.array([0, 0, 0, 0, 0, 0.])\n",
    "assert np.allclose(opera_distance_metric_py(a, \n",
    "                                         a + np.array([0, 0, 0, 3, 0, 0])), \n",
    "                   0)\n",
    "assert np.allclose(opera_distance_metric_py(a, \n",
    "                                         a + np.array([0, 0, 2, 3, 0, 0])), \n",
    "                   6 / 1293)\n",
    "assert np.allclose(opera_distance_metric_py(a, \n",
    "                                         a + np.array([0, 1, 2, 3, 0, 0])), \n",
    "                   np.sqrt(1 + 2**2) * 3 / 1293)\n",
    "assert np.allclose(opera_distance_metric_py(a, \n",
    "                                         a + np.array([0, 0, 0, 3, 1e-1, 0])), \n",
    "                   1e-1 * 3**2 / 2 / 1293, atol=1e-3, rtol=1e-4)\n",
    "assert np.allclose(opera_distance_metric_py(a, \n",
    "                                         a + np.array([0, 0, 0, 3, 1e-1, 1e-2])), \n",
    "                   np.sqrt(0.1**2 + 0.01**2) * 3**2 / 2 / 1293, atol=1e-3, rtol=1e-4)"
   ]
  },
  {
   "cell_type": "code",
   "execution_count": 5,
   "metadata": {},
   "outputs": [],
   "source": [
    "import torch\n",
    "import torch_scatter"
   ]
  },
  {
   "cell_type": "code",
   "execution_count": 6,
   "metadata": {},
   "outputs": [],
   "source": [
    "import torch_geometric\n",
    "from torch_geometric.data import Data"
   ]
  },
  {
   "cell_type": "code",
   "execution_count": 7,
   "metadata": {},
   "outputs": [],
   "source": [
    "# https://blog.sicara.com/fast-custom-knn-sklearn-cython-de92e5a325c\n",
    "from sklearn.neighbors import NearestNeighbors\n",
    "from tqdm import tqdm"
   ]
  },
  {
   "cell_type": "code",
   "execution_count": 8,
   "metadata": {},
   "outputs": [],
   "source": [
    "def load_mc(filename=\"./EM_data/mcdata_taue2.root\", step=1):\n",
    "    f = uproot.open(filename)\n",
    "    mc = f['Data'].pandas.df([\"Event_id\", \"ele_P\", \"BT_X\", \"BT_Y\",\n",
    "                              \"BT_Z\",\"BT_SX\", \"BT_SY\",\"ele_x\", \n",
    "                              \"ele_y\", \"ele_z\", \"ele_sx\", \"ele_sy\", \"chisquare\", ], flatten=False)\n",
    "    pmc = pd.DataFrame(mc)\n",
    "    pmc['numtracks'] = pmc.BT_X.apply(lambda x: len(x))\n",
    "    # cuts\n",
    "    shapechange = [pmc.shape[0]]\n",
    "    pmc = pmc[pmc.ele_P > 0.1]\n",
    "    shapechange.append(pmc.shape[0])\n",
    "\n",
    "    pmc = pmc[pmc.ele_z < 0]\n",
    "    shapechange.append(pmc.shape[0])\n",
    "\n",
    "    pmc = pmc[pmc.numtracks > 3]\n",
    "    shapechange.append(pmc.shape[0])\n",
    "    print(\"numtracks reduction by cuts: \", shapechange)\n",
    "    pmc['m_BT_X'] = pmc.BT_X.apply(lambda x: x.mean())\n",
    "    pmc['m_BT_Y'] = pmc.BT_Y.apply(lambda x: x.mean())\n",
    "    pmc['m_BT_Z'] = pmc.BT_Z.apply(lambda x: x.mean())\n",
    "\n",
    "    print(\"len(pmc): {len}\".format(len=len(pmc)))\n",
    "    return pmc"
   ]
  },
  {
   "cell_type": "code",
   "execution_count": 9,
   "metadata": {},
   "outputs": [
    {
     "name": "stdout",
     "output_type": "stream",
     "text": [
      "numtracks reduction by cuts:  [18724, 18679, 9616, 9106]\n",
      "len(pmc): 9106\n"
     ]
    }
   ],
   "source": [
    "pmc = load_mc(filename='./EM_data/mcdata_taue2.root', step=1)"
   ]
  },
  {
   "cell_type": "code",
   "execution_count": 10,
   "metadata": {},
   "outputs": [],
   "source": [
    "def pmc_to_ship_format(pmc):\n",
    "    showers = []\n",
    "    scale = 10000\n",
    "    for idx in pmc.index:\n",
    "        shower = pmc.loc[idx]\n",
    "        \n",
    "        showers.append(\n",
    "            {\n",
    "                'TX': shower['BT_X'] / scale,\n",
    "                'TY': shower['BT_Y'] / scale,\n",
    "                'TZ': shower['BT_Z'] / scale,\n",
    "                'PX': shower['BT_SX'],\n",
    "                'PY': shower['BT_SY'],\n",
    "                'PZ': np.ones_like(shower['BT_X']),\n",
    "                'ele_P': shower['ele_P'],\n",
    "                'ele_TX': shower['ele_x'] / scale,\n",
    "                'ele_TY': shower['ele_y'] / scale,\n",
    "                'ele_TZ': shower['ele_z']  / scale,\n",
    "                'ele_PX': shower['ele_sx'],\n",
    "                'ele_PY': shower['ele_sy'],\n",
    "                'ele_PZ': 1.\n",
    "            }\n",
    "        )\n",
    "    return showers\n",
    "selected_showers = pmc_to_ship_format(pmc)"
   ]
  },
  {
   "cell_type": "code",
   "execution_count": 11,
   "metadata": {},
   "outputs": [
    {
     "data": {
      "text/plain": [
       "9106"
      ]
     },
     "execution_count": 11,
     "metadata": {},
     "output_type": "execute_result"
    }
   ],
   "source": [
    "len(pmc)"
   ]
  },
  {
   "cell_type": "code",
   "execution_count": 12,
   "metadata": {},
   "outputs": [],
   "source": [
    "selected_showers = [selected_shower for selected_shower in selected_showers if len(selected_shower['PX']) > 70]"
   ]
  },
  {
   "cell_type": "code",
   "execution_count": 13,
   "metadata": {},
   "outputs": [],
   "source": [
    "selected_showers = [selected_shower for selected_shower in selected_showers if len(selected_shower['PX']) < 3000]"
   ]
  },
  {
   "cell_type": "code",
   "execution_count": 14,
   "metadata": {},
   "outputs": [
    {
     "data": {
      "text/plain": [
       "8019"
      ]
     },
     "execution_count": 14,
     "metadata": {},
     "output_type": "execute_result"
    }
   ],
   "source": [
    "len(selected_showers)"
   ]
  },
  {
   "cell_type": "code",
   "execution_count": 15,
   "metadata": {},
   "outputs": [],
   "source": [
    "bricks = deque()\n",
    "NUM_SHOWERS_IN_BRICK = 200"
   ]
  },
  {
   "cell_type": "code",
   "execution_count": 16,
   "metadata": {},
   "outputs": [
    {
     "name": "stdout",
     "output_type": "stream",
     "text": [
      "CPU times: user 1min 16s, sys: 2.79 s, total: 1min 19s\n",
      "Wall time: 1min 19s\n"
     ]
    }
   ],
   "source": [
    "%%time\n",
    "scale = 10000\n",
    "bricks = deque()\n",
    "for i in range(len(selected_showers) // NUM_SHOWERS_IN_BRICK):\n",
    "    node_id = 0\n",
    "    graphx = nx.DiGraph()\n",
    "    nodes_to_add = []\n",
    "    showers_data = []\n",
    "    for j in range(NUM_SHOWERS_IN_BRICK):\n",
    "        selected_shower = selected_showers[i * NUM_SHOWERS_IN_BRICK + j]\n",
    "        showers_data.append(\n",
    "            {\n",
    "            'numtracks': len(selected_shower['PX']),\n",
    "            'signal': j,\n",
    "            'ele_P': selected_shower['ele_P'],\n",
    "            'ele_SX': selected_shower['ele_TX'] * scale,\n",
    "            'ele_SY': selected_shower['ele_TY'] * scale,\n",
    "            'ele_SZ': selected_shower['ele_TZ'] * scale,\n",
    "            'ele_TX': selected_shower['ele_PX'] / selected_shower['ele_PZ'],\n",
    "            'ele_TY': selected_shower['ele_PY'] / selected_shower['ele_PZ']\n",
    "            }\n",
    "        )\n",
    "        for k in range(len(selected_shower['PX'])):\n",
    "            nodes_to_add.append(\n",
    "                (\n",
    "                    node_id,\n",
    "                    {\n",
    "                        'features': {\n",
    "                            'SX': selected_shower['TX'][k] * scale,\n",
    "                            'SY': selected_shower['TY'][k] * scale,\n",
    "                            'SZ': selected_shower['TZ'][k] * scale,\n",
    "                            'TX': selected_shower['PX'][k] / selected_shower['PZ'][k],\n",
    "                            'TY': selected_shower['PY'][k] / selected_shower['PZ'][k],\n",
    "                        },\n",
    "                        'signal': j\n",
    "                    }\n",
    "                )\n",
    "            )\n",
    "            node_id += 1\n",
    "    graphx.add_nodes_from(nodes_to_add)\n",
    "    graphx.graph['showers_data'] = showers_data\n",
    "    bricks.append(graphx)"
   ]
  },
  {
   "cell_type": "code",
   "execution_count": 17,
   "metadata": {},
   "outputs": [
    {
     "data": {
      "text/plain": [
       "40"
      ]
     },
     "execution_count": 17,
     "metadata": {},
     "output_type": "execute_result"
    }
   ],
   "source": [
    "len(bricks)"
   ]
  },
  {
   "cell_type": "code",
   "execution_count": 18,
   "metadata": {},
   "outputs": [
    {
     "data": {
      "text/plain": [
       "{'features': {'SX': 9381.415843963623,\n",
       "  'SY': -15577.337741851807,\n",
       "  'SZ': -143.58147978782654,\n",
       "  'TX': -0.12269463,\n",
       "  'TY': 0.06926952},\n",
       " 'signal': 0}"
      ]
     },
     "execution_count": 18,
     "metadata": {},
     "output_type": "execute_result"
    }
   ],
   "source": [
    "graphx.nodes(data= True)[0]"
   ]
  },
  {
   "cell_type": "code",
   "execution_count": 19,
   "metadata": {},
   "outputs": [],
   "source": [
    "def digraph_to_csv(graphs: list):\n",
    "    df = pd.DataFrame(columns=['Brick_id', 'shower_id', 'SX', 'SY', 'SZ', 'TX', 'TY', \n",
    "                               'numtracks', 'ele_P', 'ele_SX', 'ele_SY', 'ele_SZ',\n",
    "                               'ele_TX', 'ele_TY' ])\n",
    "    \n",
    "    Numtracks = []\n",
    "    Ele_P = []\n",
    "    Ele_SX = []\n",
    "    Ele_SY = []\n",
    "    Ele_SZ = []\n",
    "    Ele_TX = []\n",
    "    Ele_TY = []\n",
    "    \n",
    "    for i, graph in tqdm(enumerate(graphs)):\n",
    "        data = graph.graph\n",
    "\n",
    "        numtracks = [node['numtracks'] for node in data['showers_data']]\n",
    "        ele_P = [node['ele_P'] for node in data['showers_data']]\n",
    "        ele_SX = [node['ele_SX'] for node in data['showers_data']]\n",
    "        ele_SY = [node['ele_SY'] for node in data['showers_data']]\n",
    "        ele_SZ = [node['ele_SZ'] for node in data['showers_data']]\n",
    "        ele_TX = [node['ele_TX'] for node in data['showers_data']]\n",
    "        ele_TY = [node['ele_TY'] for node in data['showers_data']]\n",
    "        Numtracks.append(numtracks)\n",
    "        Ele_P.append(ele_P)\n",
    "        Ele_SX.append(ele_SX)\n",
    "        Ele_SY.append(ele_SY)\n",
    "        Ele_SZ.append(ele_SZ)\n",
    "        Ele_TX.append(ele_TX)\n",
    "        Ele_TY.append(ele_TY)\n",
    "        \n",
    "        \n",
    "        \n",
    "        nodes = graph.nodes()\n",
    "        \n",
    "        SX = [node['features']['SX'] for node in nodes.values()]\n",
    "        SY = [node['features']['SY'] for node in nodes.values()]\n",
    "        SZ = [node['features']['SZ'] for node in nodes.values()]\n",
    "        TX = [node['features']['TX'] for node in nodes.values()]\n",
    "        TY = [node['features']['TY'] for node in nodes.values()]\n",
    "        signal = [node['signal'] for node in nodes.values()]\n",
    "        \n",
    "        \n",
    "        shower_id = [node['signal'] for node in nodes.values()]\n",
    "        brick_id = [i for _ in range(len(shower_id))]\n",
    "        \n",
    "        numtracks_expanded = [numtrack * [numtrack] for numtrack in numtracks]\n",
    "        numtracks_expanded = [numtrack for sublist in numtracks_expanded for numtrack in sublist]\n",
    "    \n",
    "        def expanded(ele_):\n",
    "            ele_expanded = [[ele_[i]]*numtracks[i] for i in range(len(numtracks))]\n",
    "            ele_expanded = [_ for sublist in ele_expanded for _ in sublist]\n",
    "            return ele_expanded\n",
    "            \n",
    "            \n",
    "            \n",
    "        ele_P_expanded = expanded(ele_P)\n",
    "        ele_SX_expanded = expanded(ele_SX)\n",
    "        ele_SY_expanded = expanded(ele_SY)\n",
    "        ele_SZ_expanded = expanded(ele_SZ)\n",
    "        ele_TX_expanded = expanded(ele_TX)\n",
    "        ele_TY_expanded = expanded(ele_TY)\n",
    "        \n",
    "\n",
    "        print(len(ele_TY_expanded) == len(ele_TX_expanded) == len(ele_SZ_expanded) == len(ele_SY_expanded)\n",
    "              == len(ele_SX_expanded) == len(ele_P_expanded) == len(numtracks_expanded) ==len(TY))\n",
    "        \n",
    "        \n",
    "        df = df.append(\n",
    "            pd.DataFrame(\n",
    "                {'Brick_id': brick_id, \n",
    "                 'shower_id': shower_id, \n",
    "                 'SX': SX, \n",
    "                 'SY': SY, \n",
    "                 'SZ': SZ, \n",
    "                 'TX': TX, \n",
    "                 'TY': TY,\n",
    "                 \n",
    "                 'numtracks': numtracks_expanded, \n",
    "                 'ele_P': ele_P_expanded, \n",
    "                 'ele_SX': ele_SX_expanded, \n",
    "                 'ele_SY': ele_SY_expanded, \n",
    "                 'ele_SZ': ele_SZ_expanded, \n",
    "                 'ele_TX': ele_TX_expanded, \n",
    "                 'ele_TY': ele_TY_expanded,\n",
    "                 'signal': signal\n",
    "                }\n",
    "            )        \n",
    "        )\n",
    "\n",
    "    return df\n",
    "        "
   ]
  },
  {
   "cell_type": "code",
   "execution_count": 20,
   "metadata": {
    "scrolled": true
   },
   "outputs": [
    {
     "name": "stderr",
     "output_type": "stream",
     "text": [
      "\r",
      "0it [00:00, ?it/s]"
     ]
    },
    {
     "name": "stdout",
     "output_type": "stream",
     "text": [
      "True\n"
     ]
    },
    {
     "name": "stderr",
     "output_type": "stream",
     "text": [
      "/root/miniconda/lib/python3.6/site-packages/pandas/core/frame.py:7123: FutureWarning: Sorting because non-concatenation axis is not aligned. A future version\n",
      "of pandas will change to not sort by default.\n",
      "\n",
      "To accept the future behavior, pass 'sort=False'.\n",
      "\n",
      "To retain the current behavior and silence the warning, pass 'sort=True'.\n",
      "\n",
      "  sort=sort,\n",
      "\r",
      "1it [00:00,  1.51it/s]"
     ]
    },
    {
     "name": "stdout",
     "output_type": "stream",
     "text": [
      "True\n"
     ]
    },
    {
     "name": "stderr",
     "output_type": "stream",
     "text": [
      "\r",
      "2it [00:01,  1.46it/s]"
     ]
    },
    {
     "name": "stdout",
     "output_type": "stream",
     "text": [
      "True\n"
     ]
    },
    {
     "name": "stderr",
     "output_type": "stream",
     "text": [
      "\r",
      "3it [00:02,  1.40it/s]"
     ]
    },
    {
     "name": "stdout",
     "output_type": "stream",
     "text": [
      "True\n"
     ]
    },
    {
     "name": "stderr",
     "output_type": "stream",
     "text": [
      "\r",
      "4it [00:02,  1.38it/s]"
     ]
    },
    {
     "name": "stdout",
     "output_type": "stream",
     "text": [
      "True\n"
     ]
    },
    {
     "name": "stderr",
     "output_type": "stream",
     "text": [
      "\r",
      "5it [00:03,  1.27it/s]"
     ]
    },
    {
     "name": "stdout",
     "output_type": "stream",
     "text": [
      "True\n"
     ]
    },
    {
     "name": "stderr",
     "output_type": "stream",
     "text": [
      "\r",
      "6it [00:04,  1.21it/s]"
     ]
    },
    {
     "name": "stdout",
     "output_type": "stream",
     "text": [
      "True\n"
     ]
    },
    {
     "name": "stderr",
     "output_type": "stream",
     "text": [
      "\r",
      "7it [00:05,  1.15it/s]"
     ]
    },
    {
     "name": "stdout",
     "output_type": "stream",
     "text": [
      "True\n"
     ]
    },
    {
     "name": "stderr",
     "output_type": "stream",
     "text": [
      "\r",
      "8it [00:06,  1.10it/s]"
     ]
    },
    {
     "name": "stdout",
     "output_type": "stream",
     "text": [
      "True\n"
     ]
    },
    {
     "name": "stderr",
     "output_type": "stream",
     "text": [
      "\r",
      "9it [00:07,  1.05it/s]"
     ]
    },
    {
     "name": "stdout",
     "output_type": "stream",
     "text": [
      "True\n"
     ]
    },
    {
     "name": "stderr",
     "output_type": "stream",
     "text": [
      "\r",
      "10it [00:08,  1.00it/s]"
     ]
    },
    {
     "name": "stdout",
     "output_type": "stream",
     "text": [
      "True\n"
     ]
    },
    {
     "name": "stderr",
     "output_type": "stream",
     "text": [
      "\r",
      "11it [00:10,  1.05s/it]"
     ]
    },
    {
     "name": "stdout",
     "output_type": "stream",
     "text": [
      "True\n"
     ]
    },
    {
     "name": "stderr",
     "output_type": "stream",
     "text": [
      "\r",
      "12it [00:11,  1.07s/it]"
     ]
    },
    {
     "name": "stdout",
     "output_type": "stream",
     "text": [
      "True\n"
     ]
    },
    {
     "name": "stderr",
     "output_type": "stream",
     "text": [
      "\r",
      "13it [00:12,  1.11s/it]"
     ]
    },
    {
     "name": "stdout",
     "output_type": "stream",
     "text": [
      "True\n"
     ]
    },
    {
     "name": "stderr",
     "output_type": "stream",
     "text": [
      "\r",
      "14it [00:13,  1.13s/it]"
     ]
    },
    {
     "name": "stdout",
     "output_type": "stream",
     "text": [
      "True\n"
     ]
    },
    {
     "name": "stderr",
     "output_type": "stream",
     "text": [
      "\r",
      "15it [00:14,  1.18s/it]"
     ]
    },
    {
     "name": "stdout",
     "output_type": "stream",
     "text": [
      "True\n"
     ]
    },
    {
     "name": "stderr",
     "output_type": "stream",
     "text": [
      "\r",
      "16it [00:16,  1.24s/it]"
     ]
    },
    {
     "name": "stdout",
     "output_type": "stream",
     "text": [
      "True\n"
     ]
    },
    {
     "name": "stderr",
     "output_type": "stream",
     "text": [
      "\r",
      "17it [00:17,  1.30s/it]"
     ]
    },
    {
     "name": "stdout",
     "output_type": "stream",
     "text": [
      "True\n"
     ]
    },
    {
     "name": "stderr",
     "output_type": "stream",
     "text": [
      "\r",
      "18it [00:19,  1.34s/it]"
     ]
    },
    {
     "name": "stdout",
     "output_type": "stream",
     "text": [
      "True\n"
     ]
    },
    {
     "name": "stderr",
     "output_type": "stream",
     "text": [
      "\r",
      "19it [00:20,  1.38s/it]"
     ]
    },
    {
     "name": "stdout",
     "output_type": "stream",
     "text": [
      "True\n"
     ]
    },
    {
     "name": "stderr",
     "output_type": "stream",
     "text": [
      "\r",
      "20it [00:22,  1.42s/it]"
     ]
    },
    {
     "name": "stdout",
     "output_type": "stream",
     "text": [
      "True\n"
     ]
    },
    {
     "name": "stderr",
     "output_type": "stream",
     "text": [
      "\r",
      "21it [00:23,  1.47s/it]"
     ]
    },
    {
     "name": "stdout",
     "output_type": "stream",
     "text": [
      "True\n"
     ]
    },
    {
     "name": "stderr",
     "output_type": "stream",
     "text": [
      "\r",
      "22it [00:25,  1.51s/it]"
     ]
    },
    {
     "name": "stdout",
     "output_type": "stream",
     "text": [
      "True\n"
     ]
    },
    {
     "name": "stderr",
     "output_type": "stream",
     "text": [
      "\r",
      "23it [00:27,  1.56s/it]"
     ]
    },
    {
     "name": "stdout",
     "output_type": "stream",
     "text": [
      "True\n"
     ]
    },
    {
     "name": "stderr",
     "output_type": "stream",
     "text": [
      "\r",
      "24it [00:28,  1.58s/it]"
     ]
    },
    {
     "name": "stdout",
     "output_type": "stream",
     "text": [
      "True\n"
     ]
    },
    {
     "name": "stderr",
     "output_type": "stream",
     "text": [
      "\r",
      "25it [00:30,  1.61s/it]"
     ]
    },
    {
     "name": "stdout",
     "output_type": "stream",
     "text": [
      "True\n"
     ]
    },
    {
     "name": "stderr",
     "output_type": "stream",
     "text": [
      "\r",
      "26it [00:31,  1.63s/it]"
     ]
    },
    {
     "name": "stdout",
     "output_type": "stream",
     "text": [
      "True\n"
     ]
    },
    {
     "name": "stderr",
     "output_type": "stream",
     "text": [
      "\r",
      "27it [00:33,  1.64s/it]"
     ]
    },
    {
     "name": "stdout",
     "output_type": "stream",
     "text": [
      "True\n"
     ]
    },
    {
     "name": "stderr",
     "output_type": "stream",
     "text": [
      "\r",
      "28it [00:35,  1.68s/it]"
     ]
    },
    {
     "name": "stdout",
     "output_type": "stream",
     "text": [
      "True\n"
     ]
    },
    {
     "name": "stderr",
     "output_type": "stream",
     "text": [
      "\r",
      "29it [00:37,  1.73s/it]"
     ]
    },
    {
     "name": "stdout",
     "output_type": "stream",
     "text": [
      "True\n"
     ]
    },
    {
     "name": "stderr",
     "output_type": "stream",
     "text": [
      "\r",
      "30it [00:39,  1.79s/it]"
     ]
    },
    {
     "name": "stdout",
     "output_type": "stream",
     "text": [
      "True\n"
     ]
    },
    {
     "name": "stderr",
     "output_type": "stream",
     "text": [
      "\r",
      "31it [00:41,  1.84s/it]"
     ]
    },
    {
     "name": "stdout",
     "output_type": "stream",
     "text": [
      "True\n"
     ]
    },
    {
     "name": "stderr",
     "output_type": "stream",
     "text": [
      "\r",
      "32it [00:43,  1.89s/it]"
     ]
    },
    {
     "name": "stdout",
     "output_type": "stream",
     "text": [
      "True\n"
     ]
    },
    {
     "name": "stderr",
     "output_type": "stream",
     "text": [
      "\r",
      "33it [00:45,  1.95s/it]"
     ]
    },
    {
     "name": "stdout",
     "output_type": "stream",
     "text": [
      "True\n"
     ]
    },
    {
     "name": "stderr",
     "output_type": "stream",
     "text": [
      "\r",
      "34it [00:47,  1.98s/it]"
     ]
    },
    {
     "name": "stdout",
     "output_type": "stream",
     "text": [
      "True\n"
     ]
    },
    {
     "name": "stderr",
     "output_type": "stream",
     "text": [
      "\r",
      "35it [00:49,  2.05s/it]"
     ]
    },
    {
     "name": "stdout",
     "output_type": "stream",
     "text": [
      "True\n"
     ]
    },
    {
     "name": "stderr",
     "output_type": "stream",
     "text": [
      "\r",
      "36it [00:51,  2.11s/it]"
     ]
    },
    {
     "name": "stdout",
     "output_type": "stream",
     "text": [
      "True\n"
     ]
    },
    {
     "name": "stderr",
     "output_type": "stream",
     "text": [
      "\r",
      "37it [00:53,  2.11s/it]"
     ]
    },
    {
     "name": "stdout",
     "output_type": "stream",
     "text": [
      "True\n"
     ]
    },
    {
     "name": "stderr",
     "output_type": "stream",
     "text": [
      "\r",
      "38it [00:56,  2.14s/it]"
     ]
    },
    {
     "name": "stdout",
     "output_type": "stream",
     "text": [
      "True\n"
     ]
    },
    {
     "name": "stderr",
     "output_type": "stream",
     "text": [
      "\r",
      "39it [00:58,  2.19s/it]"
     ]
    },
    {
     "name": "stdout",
     "output_type": "stream",
     "text": [
      "True\n"
     ]
    },
    {
     "name": "stderr",
     "output_type": "stream",
     "text": [
      "40it [01:00,  2.23s/it]\n"
     ]
    }
   ],
   "source": [
    "df = digraph_to_csv(bricks)"
   ]
  },
  {
   "cell_type": "code",
   "execution_count": 21,
   "metadata": {},
   "outputs": [],
   "source": [
    "columns = df.columns.tolist()"
   ]
  },
  {
   "cell_type": "code",
   "execution_count": 22,
   "metadata": {},
   "outputs": [],
   "source": [
    "data = df.values.astype(np.double)"
   ]
  },
  {
   "cell_type": "code",
   "execution_count": 23,
   "metadata": {},
   "outputs": [
    {
     "data": {
      "text/plain": [
       "15"
      ]
     },
     "execution_count": 23,
     "metadata": {},
     "output_type": "execute_result"
    }
   ],
   "source": [
    "len(data[0])"
   ]
  },
  {
   "cell_type": "code",
   "execution_count": 24,
   "metadata": {},
   "outputs": [],
   "source": [
    "data = pd.DataFrame(data, columns=columns)"
   ]
  },
  {
   "cell_type": "code",
   "execution_count": 25,
   "metadata": {},
   "outputs": [
    {
     "data": {
      "text/plain": [
       "4314005"
      ]
     },
     "execution_count": 25,
     "metadata": {},
     "output_type": "execute_result"
    }
   ],
   "source": [
    "len(data)"
   ]
  },
  {
   "cell_type": "code",
   "execution_count": 26,
   "metadata": {},
   "outputs": [],
   "source": [
    "sol = data[['Brick_id', 'shower_id']]\n",
    "\n",
    "data = data.drop(['shower_id'], axis = 1)"
   ]
  },
  {
   "cell_type": "code",
   "execution_count": 27,
   "metadata": {},
   "outputs": [
    {
     "data": {
      "text/html": [
       "<div>\n",
       "<style scoped>\n",
       "    .dataframe tbody tr th:only-of-type {\n",
       "        vertical-align: middle;\n",
       "    }\n",
       "\n",
       "    .dataframe tbody tr th {\n",
       "        vertical-align: top;\n",
       "    }\n",
       "\n",
       "    .dataframe thead th {\n",
       "        text-align: right;\n",
       "    }\n",
       "</style>\n",
       "<table border=\"1\" class=\"dataframe\">\n",
       "  <thead>\n",
       "    <tr style=\"text-align: right;\">\n",
       "      <th></th>\n",
       "      <th>Brick_id</th>\n",
       "      <th>shower_id</th>\n",
       "    </tr>\n",
       "  </thead>\n",
       "  <tbody>\n",
       "    <tr>\n",
       "      <td>0</td>\n",
       "      <td>0.0</td>\n",
       "      <td>0.0</td>\n",
       "    </tr>\n",
       "    <tr>\n",
       "      <td>1</td>\n",
       "      <td>0.0</td>\n",
       "      <td>0.0</td>\n",
       "    </tr>\n",
       "    <tr>\n",
       "      <td>2</td>\n",
       "      <td>0.0</td>\n",
       "      <td>0.0</td>\n",
       "    </tr>\n",
       "    <tr>\n",
       "      <td>3</td>\n",
       "      <td>0.0</td>\n",
       "      <td>0.0</td>\n",
       "    </tr>\n",
       "    <tr>\n",
       "      <td>4</td>\n",
       "      <td>0.0</td>\n",
       "      <td>0.0</td>\n",
       "    </tr>\n",
       "  </tbody>\n",
       "</table>\n",
       "</div>"
      ],
      "text/plain": [
       "   Brick_id  shower_id\n",
       "0       0.0        0.0\n",
       "1       0.0        0.0\n",
       "2       0.0        0.0\n",
       "3       0.0        0.0\n",
       "4       0.0        0.0"
      ]
     },
     "execution_count": 27,
     "metadata": {},
     "output_type": "execute_result"
    }
   ],
   "source": [
    "sol.head()"
   ]
  },
  {
   "cell_type": "code",
   "execution_count": 28,
   "metadata": {},
   "outputs": [
    {
     "data": {
      "text/plain": [
       "200"
      ]
     },
     "execution_count": 28,
     "metadata": {},
     "output_type": "execute_result"
    }
   ],
   "source": [
    "len(np.unique(np.array(data.signal)))"
   ]
  },
  {
   "cell_type": "code",
   "execution_count": 29,
   "metadata": {},
   "outputs": [],
   "source": [
    "def gen_torch_showers(df, df_sol, knn=False, r=250, k=5, directed=False, e = 0.00005):\n",
    "    showers = deque()\n",
    "\n",
    "    for brick_id in tqdm(list(df.Brick_id.unique())[:3]):\n",
    "        df_brick = df[df.Brick_id == brick_id]\n",
    "        if knn:\n",
    "            edges_from, edge_to, dist = generate_k_nearest_graph(df_brick.values, \n",
    "                                                                 k, e=e,\n",
    "                                                                 symmetric=directed);\n",
    "            edges = np.vstack([edges_from, edge_to])\n",
    "            dist = np.array(dist)\n",
    "            edge_index = torch.LongTensor(edges)\n",
    "        else:\n",
    "            edges_from, edge_to, dist = generate_radius_graph(df_brick.values, \n",
    "                                                              r, e=e,\n",
    "                                                              symmetric=directed);\n",
    "            edges = np.vstack([edges_from, edge_to])\n",
    "            dist = np.array(dist)\n",
    "            edge_index = torch.LongTensor(edges)\n",
    "            \n",
    "        x = torch.FloatTensor(df_brick.values[:, 1:6] / np.array([1e4, 1e4, 1e4, 1., 1.]))\n",
    "        shower_data = torch.FloatTensor(df_brick.values[:, 6:])\n",
    "        edge_attr = torch.log(torch.FloatTensor(dist).view(-1, 1))\n",
    "        y = torch.LongTensor(df_sol.shower_id.loc[df_sol.Brick_id == brick_id].values)\n",
    "        shower = torch_geometric.data.Data(x=x, edge_index=edge_index,\n",
    "                                           shower_data = shower_data,\n",
    "                                           pos=x, edge_attr=edge_attr, y=y)\n",
    "        showers.append(shower)\n",
    "    \n",
    "    return showers"
   ]
  },
  {
   "cell_type": "code",
   "execution_count": null,
   "metadata": {},
   "outputs": [
    {
     "name": "stderr",
     "output_type": "stream",
     "text": [
      " 67%|██████▋   | 2/3 [1:53:29<55:39, 3339.11s/it]"
     ]
    }
   ],
   "source": [
    "showers_train=gen_torch_showers(df=data, df_sol=sol, knn=True, k=10, directed=False, e = 10)\n",
    "torch.save(showers_train, './EM_data/train_.pt')"
   ]
  },
  {
   "cell_type": "code",
   "execution_count": null,
   "metadata": {},
   "outputs": [],
   "source": []
  }
 ],
 "metadata": {
  "kernelspec": {
   "display_name": "Python 3",
   "language": "python",
   "name": "python3"
  },
  "language_info": {
   "codemirror_mode": {
    "name": "ipython",
    "version": 3
   },
   "file_extension": ".py",
   "mimetype": "text/x-python",
   "name": "python",
   "nbconvert_exporter": "python",
   "pygments_lexer": "ipython3",
   "version": "3.6.8"
  }
 },
 "nbformat": 4,
 "nbformat_minor": 2
}
