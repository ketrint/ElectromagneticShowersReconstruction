{
 "cells": [
  {
   "cell_type": "code",
   "execution_count": 1,
   "metadata": {},
   "outputs": [],
   "source": [
    "X_SIZE = 6.25\n",
    "Y_SIZE = 4.950"
   ]
  },
  {
   "cell_type": "code",
   "execution_count": 2,
   "metadata": {},
   "outputs": [
    {
     "name": "stderr",
     "output_type": "stream",
     "text": [
      "/home/vbelavin/home/anaconda3/envs/rootenv/lib/python3.6/site-packages/root_numpy/__init__.py:46: RuntimeWarning: numpy 1.14.2 is currently installed but you installed root_numpy against numpy 1.12.1. Please consider reinstalling root_numpy for this numpy version.\n",
      "  RuntimeWarning)\n"
     ]
    }
   ],
   "source": [
    "from mpl_toolkits.mplot3d import Axes3D\n",
    "from mpl_toolkits.mplot3d.art3d import Line3DCollection\n",
    "from matplotlib import pylab as plt \n",
    "import root_numpy\n",
    "import pandas as pd\n",
    "import numpy\n",
    "#import seaborn\n",
    "%matplotlib inline\n",
    "#%matplotlib notebook\n",
    "import numpy as np"
   ]
  },
  {
   "cell_type": "code",
   "execution_count": 3,
   "metadata": {},
   "outputs": [],
   "source": [
    "def open_shower_file(filename, start=0, stop=100, step=1):\n",
    "    prefixMC = 'MCTrack'\n",
    "    prefixTargetPoint = 'TargetPoint'\n",
    "    showers_data_root = root_numpy.root2array(filename, treename='cbmsim', start=start, stop=stop, step=step,\n",
    "                                                                    branches=[prefixMC+'.fPx', \n",
    "                                                                              prefixMC+'.fPy', \n",
    "                                                                              prefixMC+'.fPz', \n",
    "                                                                              prefixMC+'.fStartX', \n",
    "                                                                              prefixMC+'.fStartY', \n",
    "                                                                              prefixMC+'.fStartZ',\n",
    "                                                                              prefixMC+'.fMotherId',\n",
    "                                                                              prefixMC+'.fM',\n",
    "                                                                              prefixMC+'.fStartT',\n",
    "                                                                              prefixMC+'.fPdgCode',\n",
    "                                                                              prefixTargetPoint+'.fPx', \n",
    "                                                                              prefixTargetPoint+'.fPy', \n",
    "                                                                              prefixTargetPoint+'.fPz', \n",
    "                                                                              prefixTargetPoint+'.fX', \n",
    "                                                                              prefixTargetPoint+'.fY', \n",
    "                                                                              prefixTargetPoint+'.fZ',\n",
    "                                                                              prefixTargetPoint+'.fTime',\n",
    "                                                                              prefixTargetPoint+'.fLength',\n",
    "                                                                              prefixTargetPoint+'.fELoss',\n",
    "                                                                              prefixTargetPoint+'.fDetectorID',\n",
    "                                                                              prefixTargetPoint+'.fTrackID',\n",
    "                                                                              prefixTargetPoint+'.fPdgCode'],\n",
    "                                      )\n",
    "    return showers_data_root\n",
    "\n",
    "def extract_showers(showers_data_root, LIM=30, E_TRHESHOLD=0.01):\n",
    "    len_mc = [[0]] * len(showers_data_root)\n",
    "    len_sim = [] * len(showers_data_root)\n",
    "    showers_mc = []\n",
    "    showers_sim = []\n",
    "    \n",
    "    initial_indeces = []\n",
    "    #z_mc = []\n",
    "    #z_sim = []\n",
    "    \n",
    "    for index, shower_data_root in enumerate(showers_data_root):\n",
    "        # extract data\n",
    "        fPx_mc, fPy_mc, fPz_mc, fStartX_mc, fStartY_mc, fStartZ_mc, fMotherId_mc,\\\n",
    "        fM_mc, fStartT_mc, fPdgCode_mc,\\\n",
    "        fPx_sim, fPy_sim, fPz_sim, fStartX_sim, fStartY_sim, fStartZ_sim, fTime_sim, fLength_sim,\\\n",
    "        fELoss_sim, fDetectorID_sim, fTrackID_sim, fPdgCode_sim =\\\n",
    "        shower_data_root\n",
    "\n",
    "        #print(fTrackID_sim, fMotherId_mc)\n",
    "        # just full mask\n",
    "        mask_sim = np.full_like(fPx_sim, fill_value=True, dtype=np.bool)\n",
    "\n",
    "        shower_sim = {\n",
    "            'PX':fPx_sim[mask_sim],\n",
    "            'PY':fPy_sim[mask_sim],\n",
    "            'PZ':fPz_sim[mask_sim],\n",
    "\n",
    "            'TX': fStartX_sim[mask_sim],\n",
    "            'TY': fStartY_sim[mask_sim],\n",
    "            'TZ': fStartZ_sim[mask_sim],\n",
    "            'Ttime': fTime_sim[mask_sim],\n",
    "            'PdgCode': fPdgCode_sim[mask_sim],\n",
    "            'AssociatedMCParticle': fTrackID_sim[mask_sim],\n",
    "            'TrackLength': fLength_sim[mask_sim]\n",
    "        }    \n",
    "\n",
    "        shower_mc = {\n",
    "            'PX':fPx_mc,\n",
    "            'PY':fPy_mc,\n",
    "            'PZ':fPz_mc,\n",
    "            \n",
    "            'TX': fStartX_mc,\n",
    "            'TY': fStartY_mc,\n",
    "            'TZ': fStartZ_mc,\n",
    "            'MotherId': fMotherId_mc,\n",
    "            'PdgCode': fPdgCode_mc\n",
    "        }\n",
    "\n",
    "\n",
    "        showers_sim.append(shower_sim)\n",
    "        showers_mc.append(shower_mc)\n",
    "        initial_indeces.append(index)\n",
    "        #print(\"Shower length sim. Before preselection = {}, after = {}\".format(len(mask_sim), sum(mask_sim)))\n",
    "        #print(\"Shower length mc. Before preselection = {}, after = {}\".format(len(mask_mc), sum(mask_mc)))\n",
    "        #print()\n",
    "    return showers_sim, showers_mc, initial_indeces"
   ]
  },
  {
   "cell_type": "code",
   "execution_count": 4,
   "metadata": {},
   "outputs": [],
   "source": [
    "def select_shower_tracks(shower_sim, shower_mc, vertex_slice_to_look=5, z_cut_value=-3244.5):\n",
    "    '''Select only EM shower part of event. Also, cut on Z variable, to select events only\n",
    "    in brick(throw away CES).'''\n",
    "    \n",
    "    mask = np.logical_and(shower_mc['PdgCode'][:vertex_slice_to_look] == 11,\n",
    "                          shower_mc['MotherId'][:vertex_slice_to_look] == 0)\n",
    "    \n",
    "    # Do not consider events with no electron tracks\n",
    "    try:\n",
    "        assert mask.sum() == 1\n",
    "    except AssertionError:\n",
    "        return {}\n",
    "    initial_electron_id = np.where(mask)[0][0]\n",
    "    \n",
    "    shower_indeces = set([initial_electron_id])\n",
    "\n",
    "    for index, mother_id in enumerate(shower_mc['MotherId']):\n",
    "        if mother_id in shower_indeces:\n",
    "            shower_indeces.add(index)\n",
    "    \n",
    "    shower_sim_indeces = np.isin(shower_sim[\"AssociatedMCParticle\"], list(shower_indeces))\n",
    "    \n",
    "    selected_as_shower = {k: v[shower_sim_indeces] for k, v in shower_sim.items()}\n",
    "    \n",
    "    shower_sim_indeces = selected_as_shower[\"TZ\"] < z_cut_value\n",
    "    \n",
    "    return {k: v[shower_sim_indeces] for k, v in selected_as_shower.items()}"
   ]
  },
  {
   "cell_type": "code",
   "execution_count": 5,
   "metadata": {},
   "outputs": [
    {
     "name": "stderr",
     "output_type": "stream",
     "text": [
      "TClass::Init:0: RuntimeWarning: no dictionary for class ROOT::TIOFeatures is available\n",
      "TClass::Init:0: RuntimeWarning: no dictionary for class ShipMCTrack is available\n",
      "TClass::Init:0: RuntimeWarning: no dictionary for class ShipRpcPoint is available\n",
      "TClass::Init:0: RuntimeWarning: no dictionary for class FairMCPoint is available\n",
      "TClass::Init:0: RuntimeWarning: no dictionary for class FairMultiLinkedData_Interface is available\n",
      "TClass::Init:0: RuntimeWarning: no dictionary for class FairMultiLinkedData is available\n",
      "TClass::Init:0: RuntimeWarning: no dictionary for class FairLink is available\n",
      "TClass::Init:0: RuntimeWarning: no dictionary for class TargetPoint is available\n",
      "TClass::Init:0: RuntimeWarning: no dictionary for class TTPoint is available\n",
      "TClass::Init:0: RuntimeWarning: no dictionary for class HptPoint is available\n",
      "TClass::Init:0: RuntimeWarning: no dictionary for class TimeDetPoint is available\n",
      "TClass::Init:0: RuntimeWarning: no dictionary for class FairMCEventHeader is available\n",
      "TClass::Init:0: RuntimeWarning: no dictionary for class FairFileHeader is available\n"
     ]
    }
   ],
   "source": [
    "showers_data_root = open_shower_file(\"./ship.conical.Genie-TGeant4.root\", stop=-1)"
   ]
  },
  {
   "cell_type": "code",
   "execution_count": 6,
   "metadata": {},
   "outputs": [],
   "source": [
    "showers_sim, showers_mc, initial_indeces = extract_showers(showers_data_root)\n",
    "\n",
    "new_showers = [select_shower_tracks(shower_sim, shower_mc)\n",
    "               for shower_sim, shower_mc in zip(showers_sim, showers_mc)]"
   ]
  },
  {
   "cell_type": "code",
   "execution_count": 7,
   "metadata": {},
   "outputs": [],
   "source": [
    "# Vertex range at MCTrack to look for initial electron\n",
    "vertex_slice_to_look = 10\n",
    "# Energy thresold for each particles\n",
    "E_THRESHOLD = 0.03\n",
    "\n",
    "# lower bound on number of tracks left after all selection to\n",
    "# save shower\n",
    "LIM = 40\n",
    "FV_margin = 0.5\n",
    "\n",
    "strange_events = []\n",
    "n_cuts = 6\n",
    "tracks_in_shower = np.zeros((len(showers_mc), n_cuts))\n",
    "ele_energy = -1 * np.ones(len(showers_mc))\n",
    "\n",
    "selected_showers = []\n",
    "selected_indeces = []\n",
    "\n",
    "for index, mc_tracks in enumerate(showers_mc):\n",
    "    mask = np.logical_and(mc_tracks['PdgCode'][:vertex_slice_to_look] == 11,\n",
    "                          mc_tracks['MotherId'][:vertex_slice_to_look] == 0)\n",
    "    \n",
    "    # Do not consider events with no electron tracks\n",
    "    try:\n",
    "        assert mask.sum() == 1\n",
    "    except AssertionError:\n",
    "        strange_events.append(index)\n",
    "        continue\n",
    "    \n",
    "    initial_electron_id = np.where(mask)[0][0]\n",
    "    mc_energy_ele = np.linalg.norm(np.array([mc_tracks[P] for P in [\"PZ\", \"PX\", \"PY\"]]), axis=0)[initial_electron_id]\n",
    "    ele_energy[index] = mc_energy_ele\n",
    "    \n",
    "    sim_tracks = new_showers[index]\n",
    "    cut_number = 0\n",
    "    mask_sim = np.full_like(sim_tracks['PZ'], fill_value=True, dtype=np.bool)\n",
    "    tracks_in_shower[index, cut_number] = mask_sim.sum()\n",
    "    cut_number += 1\n",
    "    \n",
    "    #FV cut (based on true info, but should be the same for basetrack)\n",
    "    fv_flag = abs(mc_tracks['TX'][initial_electron_id]) + FV_margin < X_SIZE and\\\n",
    "              abs(mc_tracks['TY'][initial_electron_id]) + FV_margin < Y_SIZE\n",
    "#              abs(mc_tracks['TZ'][initial_electron_id]) > 3251\n",
    "        \n",
    "    if not fv_flag:\n",
    "        mask_sim = mask_sim & 0\n",
    "    tracks_in_shower[index, cut_number] = mask_sim.sum()\n",
    "    cut_number += 1\n",
    "    \n",
    "    # mask to get rid of tracks with tg(alpha) > 5\n",
    "    mask_sim = mask_sim & (np.abs(sim_tracks['PX'] / sim_tracks['PZ']) <= 5.) &\\\n",
    "                          (np.abs(sim_tracks['PY'] / sim_tracks['PZ']) <= 5.)\n",
    "    tracks_in_shower[index, cut_number] = mask_sim.sum()\n",
    "    cut_number += 1\n",
    "    \n",
    "    # 0-length tracks looks bad\n",
    "    mask_sim = mask_sim & (sim_tracks[\"TrackLength\"] != 0)\n",
    "    tracks_in_shower[index, cut_number] = mask_sim.sum()\n",
    "    cut_number += 1\n",
    "\n",
    "    # visability mask: Only tracks with P > E_THRESHOLD MeV are seen in emulson\n",
    "    mask_sim = mask_sim & (np.linalg.norm(np.array([sim_tracks[P] for P in [\"PZ\", \"PX\", \"PY\"]]), axis=0) > E_THRESHOLD)\n",
    "    tracks_in_shower[index, cut_number] = mask_sim.sum()\n",
    "    cut_number += 1\n",
    "    \n",
    "    # Select shower with at least LIM basetracks\n",
    "    if mask_sim.sum() < LIM:\n",
    "        tracks_in_shower[index, cut_number] = 0\n",
    "    else:\n",
    "        tracks_in_shower[index, cut_number] = mask_sim.sum()\n",
    "        selected_shower = {\n",
    "            k: v[mask_sim] for k, v in new_showers[index].items()\n",
    "        }\n",
    "        selected_shower.update({\n",
    "            'ele_P': mc_energy_ele,\n",
    "            'ele_PX': mc_tracks['PX'][initial_electron_id],\n",
    "            'ele_PY': mc_tracks['PY'][initial_electron_id],\n",
    "            'ele_PZ': mc_tracks['PZ'][initial_electron_id],\n",
    "            'ele_TX': mc_tracks['TX'][initial_electron_id],\n",
    "            'ele_TY': mc_tracks['TY'][initial_electron_id],\n",
    "            'ele_TZ': mc_tracks['TZ'][initial_electron_id],\n",
    "        })\n",
    "        selected_showers.append(selected_shower)\n",
    "        selected_indeces.append(index)\n",
    "    cut_number += 1"
   ]
  },
  {
   "cell_type": "code",
   "execution_count": 8,
   "metadata": {},
   "outputs": [
    {
     "data": {
      "text/plain": [
       "2048"
      ]
     },
     "execution_count": 8,
     "metadata": {},
     "output_type": "execute_result"
    }
   ],
   "source": [
    "len(selected_showers)"
   ]
  },
  {
   "cell_type": "code",
   "execution_count": 9,
   "metadata": {},
   "outputs": [],
   "source": [
    "import pickle"
   ]
  },
  {
   "cell_type": "code",
   "execution_count": 10,
   "metadata": {},
   "outputs": [],
   "source": [
    "with open('selected_showers.pickle', 'wb') as f:\n",
    "    pickle.dump(selected_showers, f, protocol=pickle.HIGHEST_PROTOCOL)"
   ]
  }
 ],
 "metadata": {
  "kernelspec": {
   "display_name": "Python 3",
   "language": "python",
   "name": "python3"
  },
  "language_info": {
   "codemirror_mode": {
    "name": "ipython",
    "version": 3
   },
   "file_extension": ".py",
   "mimetype": "text/x-python",
   "name": "python",
   "nbconvert_exporter": "python",
   "pygments_lexer": "ipython3",
   "version": "3.6.5"
  }
 },
 "nbformat": 4,
 "nbformat_minor": 2
}
