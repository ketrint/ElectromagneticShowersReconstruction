{
 "cells": [
  {
   "cell_type": "code",
   "execution_count": null,
   "metadata": {},
   "outputs": [],
   "source": [
    "from astropy.io import fits\n",
    "import pandas as pd\n",
    "import numpy as np\n",
    "\n",
    "import matplotlib.pyplot as plt\n",
    "import seaborn as sns\n",
    "\n",
    "from sklearn.impute import IterativeImputer"
   ]
  },
  {
   "cell_type": "code",
   "execution_count": null,
   "metadata": {},
   "outputs": [],
   "source": [
    "# открыть файлы с скрасными смещениями\n",
    "\n",
    "data = fits.open('http://gal-03.sai.msu.ru/~vtoptun/photometry/rcsed_v2_clean.fits')\n",
    "\n",
    "data.info()"
   ]
  },
  {
   "cell_type": "code",
   "execution_count": null,
   "metadata": {},
   "outputs": [],
   "source": [
    "data = data[1].data"
   ]
  },
  {
   "cell_type": "code",
   "execution_count": null,
   "metadata": {},
   "outputs": [],
   "source": [
    "cols = data.columns.names #559"
   ]
  },
  {
   "cell_type": "code",
   "execution_count": null,
   "metadata": {},
   "outputs": [],
   "source": [
    "# конвертация в датафрейм\n",
    "RCSED_V2 = pd.DataFrame(np.array(data).byteswap().newbyteorder())\n",
    "display(RCSED_V2.head())"
   ]
  },
  {
   "cell_type": "code",
   "execution_count": null,
   "metadata": {},
   "outputs": [],
   "source": [
    "ID_cols = list(RCSED_V2.filter(regex='ID'))"
   ]
  },
  {
   "cell_type": "code",
   "execution_count": null,
   "metadata": {},
   "outputs": [],
   "source": [
    "ID_cols.append('ind')\n",
    "ID_cols.append('recno_uzc')"
   ]
  },
  {
   "cell_type": "code",
   "execution_count": null,
   "metadata": {},
   "outputs": [],
   "source": [
    "ID_cols"
   ]
  },
  {
   "cell_type": "code",
   "execution_count": null,
   "metadata": {},
   "outputs": [],
   "source": [
    "RCSED_V2 = RCSED_V2[RCSED_V2.columns.drop(ID_cols)]"
   ]
  },
  {
   "cell_type": "code",
   "execution_count": null,
   "metadata": {},
   "outputs": [],
   "source": [
    "cat_cols = ['SpecFile_wigglez', 'targetname_6df', 'SeqNum_2df', 'planid_lamost']"
   ]
  },
  {
   "cell_type": "code",
   "execution_count": null,
   "metadata": {},
   "outputs": [],
   "source": [
    "RCSED_V2 = RCSED_V2[RCSED_V2.columns.drop(cat_cols)]"
   ]
  },
  {
   "cell_type": "code",
   "execution_count": null,
   "metadata": {},
   "outputs": [],
   "source": [
    "len(RCSED_V2.columns)"
   ]
  },
  {
   "cell_type": "code",
   "execution_count": null,
   "metadata": {},
   "outputs": [],
   "source": [
    "RCSED_V2.head()"
   ]
  },
  {
   "cell_type": "code",
   "execution_count": null,
   "metadata": {},
   "outputs": [],
   "source": [
    "len_data = len(RCSED_V2)"
   ]
  },
  {
   "cell_type": "code",
   "execution_count": null,
   "metadata": {},
   "outputs": [],
   "source": [
    "sum(np.array(RCSED_V2.OBJNO_deep2) != -2147483648) / len_data"
   ]
  },
  {
   "cell_type": "code",
   "execution_count": null,
   "metadata": {},
   "outputs": [],
   "source": [
    "#replace NaN"
   ]
  },
  {
   "cell_type": "code",
   "execution_count": null,
   "metadata": {},
   "outputs": [],
   "source": [
    "def null_treating(cols, null):\n",
    "    for col in cols:\n",
    "        if sum(np.array(RCSED_V2[col]) == null) / len(RCSED_V2) > 0.9:\n",
    "            RCSED_V2.drop([col],axis=1, inplace=True)\n",
    "            cols.remove(col)\n",
    "        else:\n",
    "            RCSED_V2[col].replace(null, np.nan) "
   ]
  },
  {
   "cell_type": "code",
   "execution_count": null,
   "metadata": {},
   "outputs": [],
   "source": [
    "#null = -2147483648\n",
    "cols_NaN1 = ['mjd_sdss', 'q_z_2df', 'specid_6df', 'obsid_lamost', 'lmjd_lamost', 'mjd_lamost',\n",
    "             'OBJNO_deep2', 'OBJNO_deep3']"
   ]
  },
  {
   "cell_type": "code",
   "execution_count": null,
   "metadata": {},
   "outputs": [],
   "source": [
    "#null = -32768\n",
    "cols_NaN2 = ['plate_sdss', 'quality_6df', 'f_z_lega_c', 'Q_wigglez', 'NQ_gama']"
   ]
  },
  {
   "cell_type": "code",
   "execution_count": null,
   "metadata": {},
   "outputs": [],
   "source": [
    "#null = 255\n",
    "cols_NaN3 = ['spid_lamost', 'fiberid_lamost']"
   ]
  },
  {
   "cell_type": "code",
   "execution_count": null,
   "metadata": {},
   "outputs": [],
   "source": [
    "null_treating(cols_NaN1, -2147483648)"
   ]
  },
  {
   "cell_type": "code",
   "execution_count": null,
   "metadata": {},
   "outputs": [],
   "source": [
    "null_treating(cols_NaN2, -32768)"
   ]
  },
  {
   "cell_type": "code",
   "execution_count": null,
   "metadata": {},
   "outputs": [],
   "source": [
    "null_treating(cols_NaN3, 255)"
   ]
  },
  {
   "cell_type": "code",
   "execution_count": null,
   "metadata": {},
   "outputs": [],
   "source": [
    "len(RCSED_V2.columns)"
   ]
  },
  {
   "cell_type": "code",
   "execution_count": null,
   "metadata": {},
   "outputs": [],
   "source": [
    "#  Anomaly detection\n",
    "\n",
    "top_values = []\n",
    "nan = []\n",
    "\n",
    "for col in RCSED_V2.columns:\n",
    "    vc = RCSED_V2[col].value_counts(ascending=False).head(1)\n",
    "    nan = (RCSED_V2[col].isna()).sum()\n",
    "    total = nan\n",
    "    if vc[vc.index[0]] >1000:\n",
    "        total = vc[vc.index[0]]+nan\n",
    "    top_values.append([vc.name, vc.index[0], vc[vc.index[0]], nan, total])\n",
    "    \n",
    "anomaly = pd.DataFrame(data=top_values, columns = ['column_name', 'anomaly_value', 'value_counts', 'nan', 'total'])"
   ]
  },
  {
   "cell_type": "code",
   "execution_count": null,
   "metadata": {},
   "outputs": [],
   "source": [
    "anomaly.sort_values(by='total', ascending=False)[1:20]"
   ]
  },
  {
   "cell_type": "code",
   "execution_count": null,
   "metadata": {},
   "outputs": [],
   "source": [
    "#4105516*0.9 = 3694964\n",
    "\n",
    "col_anomaly = anomaly[anomaly.total>3694964].column_name.to_list()"
   ]
  },
  {
   "cell_type": "code",
   "execution_count": null,
   "metadata": {},
   "outputs": [],
   "source": [
    "len(col_anomaly)"
   ]
  },
  {
   "cell_type": "code",
   "execution_count": null,
   "metadata": {},
   "outputs": [],
   "source": [
    "RCSED_V2.drop(col_anomaly, axis=1, inplace=True)"
   ]
  },
  {
   "cell_type": "code",
   "execution_count": null,
   "metadata": {},
   "outputs": [],
   "source": [
    "sns.distplot(RCSED_V2.w3sigmag_7_wise)\n",
    "plt.title('w3sigmag_7_wise')\n",
    "plt.show()"
   ]
  },
  {
   "cell_type": "code",
   "execution_count": null,
   "metadata": {},
   "outputs": [],
   "source": [
    "len(np.unique(RCSED_V2.w3sigmag_7_wise))-2202889"
   ]
  },
  {
   "cell_type": "markdown",
   "metadata": {},
   "source": [
    "**To do**\n",
    "*IterativeImputer*\n",
    "-> models each feature with missing values as a function of other features, and uses that estimate for imputation"
   ]
  }
 ],
 "metadata": {
  "kernelspec": {
   "display_name": "Python 3",
   "language": "python",
   "name": "python3"
  },
  "language_info": {
   "codemirror_mode": {
    "name": "ipython",
    "version": 3
   },
   "file_extension": ".py",
   "mimetype": "text/x-python",
   "name": "python",
   "nbconvert_exporter": "python",
   "pygments_lexer": "ipython3",
   "version": "3.7.4"
  }
 },
 "nbformat": 4,
 "nbformat_minor": 4
}
