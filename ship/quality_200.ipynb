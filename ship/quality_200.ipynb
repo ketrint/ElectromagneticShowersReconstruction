{
 "cells": [
  {
   "cell_type": "code",
   "execution_count": 1,
   "metadata": {},
   "outputs": [],
   "source": [
    "import matplotlib.pyplot as plt\n",
    "from collections import defaultdict\n",
    "import numpy as np\n",
    "import seaborn as sns\n",
    "import os\n",
    "import pickle\n",
    "from tqdm import tqdm\n",
    "import networkx as nx"
   ]
  },
  {
   "cell_type": "code",
   "execution_count": 2,
   "metadata": {},
   "outputs": [],
   "source": [
    "NUM_SHOWERS_IN_BRICK = 200"
   ]
  },
  {
   "cell_type": "code",
   "execution_count": 3,
   "metadata": {},
   "outputs": [
    {
     "name": "stderr",
     "output_type": "stream",
     "text": [
      "/home/vbelavin/home/anaconda3/envs/rootenv/lib/python3.6/site-packages/root_numpy/__init__.py:46: RuntimeWarning: numpy 1.14.2 is currently installed but you installed root_numpy against numpy 1.12.1. Please consider reinstalling root_numpy for this numpy version.\n",
      "  RuntimeWarning)\n"
     ]
    }
   ],
   "source": [
    "import os\n",
    "import psutil\n",
    "from sklearn.metrics import roc_auc_score, average_precision_score, accuracy_score, log_loss\n",
    "from sklearn.metrics import precision_recall_curve\n",
    "from IPython.display import clear_output\n",
    "import sys\n",
    "sys.path.append(\"..\")\n",
    "from tools.opera_tools import plot_graphx, DISTANCE\n",
    "from sklearn.linear_model import TheilSenRegressor, LinearRegression, HuberRegressor\n",
    "from copy import deepcopy      \n",
    "from collections import Counter\n",
    "\n",
    "process = psutil.Process(os.getpid())"
   ]
  },
  {
   "cell_type": "code",
   "execution_count": 4,
   "metadata": {},
   "outputs": [],
   "source": [
    "def class_disbalance_graphx(graphx):\n",
    "    signal = []\n",
    "    for _, node in graphx.nodes(data=True):\n",
    "        signal.append(node['signal'])\n",
    "    return list(zip(*np.unique(signal, return_counts=True)))\n",
    "\n",
    "def class_disbalance_graphx__(graphx):\n",
    "    signal = []\n",
    "    for _, node in graphx.nodes(data=True):\n",
    "        signal.append(node['signal'])\n",
    "    return np.unique(signal, return_counts=True)"
   ]
  },
  {
   "cell_type": "code",
   "execution_count": 5,
   "metadata": {},
   "outputs": [],
   "source": [
    "from math import sqrt\n",
    "\n",
    "def estimate_e(cluster, angle=0.05):\n",
    "    x, y, z = estimate_start_xyz(cluster)\n",
    "    tx, ty = estimate_txty(cluster)\n",
    "    n = 0\n",
    "    for i, node in cluster.nodes(data=True):\n",
    "        dx = node['features']['SX'] - x\n",
    "        dy = node['features']['SY'] - y\n",
    "        dz = node['features']['SZ'] - z \n",
    "        dx = dx / dz - tx\n",
    "        dy = dy / dz - ty\n",
    "        dz = dz / dz\n",
    "        if sqrt(dx**2 + dy**2) < angle:\n",
    "            n += 1\n",
    "            \n",
    "    return n\n",
    "\n",
    "def estimate_start_xyz(cluster, k=3, shift_x=0., shift_y=0., shift_z=-2000.):\n",
    "    xs = []\n",
    "    ys = []\n",
    "    zs = []\n",
    "\n",
    "    for i, node in cluster.nodes(data=True):\n",
    "        xs.append(node['features']['SX'])\n",
    "        ys.append(node['features']['SY'])\n",
    "        zs.append(node['features']['SZ'])\n",
    "    \n",
    "    xs = np.array(xs)\n",
    "    ys = np.array(ys)\n",
    "    zs = np.array(zs)\n",
    "    \n",
    "    argosorted_z = np.argsort(zs)\n",
    "    \n",
    "    x = np.median(np.median(xs[argosorted_z][:k])) + shift_x\n",
    "    y = np.median(np.median(ys[argosorted_z][:k])) + shift_y\n",
    "    z = np.median(np.median(zs[argosorted_z][:k])) + shift_z\n",
    "    \n",
    "    return x, y, z\n",
    "\n",
    "def estimate_txty(cluster, k=20):\n",
    "    xs = []\n",
    "    ys = []\n",
    "    zs = []\n",
    "    tx = []\n",
    "    ty = []\n",
    "\n",
    "    for i, node in cluster.nodes(data=True):\n",
    "        xs.append(node['features']['SX'])\n",
    "        ys.append(node['features']['SY'])\n",
    "        zs.append(node['features']['SZ'])\n",
    "        tx.append(node['features']['TX'])\n",
    "        ty.append(node['features']['TY'])\n",
    "        \n",
    "    \n",
    "    xs = np.array(xs)\n",
    "    ys = np.array(ys)\n",
    "    zs = np.array(zs)\n",
    "    tx = np.array(tx)\n",
    "    ty = np.array(ty)\n",
    "    \n",
    "    \n",
    "    argosorted_z = np.argsort(zs)\n",
    "    \n",
    "    lr = TheilSenRegressor()\n",
    "    lr.fit(zs[argosorted_z][:k].reshape((-1, 1)), xs[argosorted_z][:k])\n",
    "    TX = lr.coef_[0]\n",
    "\n",
    "    lr.fit(zs[argosorted_z][:k].reshape((-1, 1)), ys[argosorted_z][:k])\n",
    "    TY = lr.coef_[0]\n",
    "    \n",
    "    return TX, TY\n",
    "    return np.median(np.median(tx[argosorted_z][:k])), np.median(np.median(ty[argosorted_z][:k]))"
   ]
  },
  {
   "cell_type": "markdown",
   "metadata": {},
   "source": [
    "## Load data"
   ]
  },
  {
   "cell_type": "code",
   "execution_count": 6,
   "metadata": {},
   "outputs": [],
   "source": [
    "import pickle\n",
    "with open('clusterized_bricks_{}.pickle'.format(NUM_SHOWERS_IN_BRICK), 'rb') as f:\n",
    "    clusterized_bricks = pickle.load(f)"
   ]
  },
  {
   "cell_type": "code",
   "execution_count": 7,
   "metadata": {},
   "outputs": [],
   "source": [
    "selected_tracks = 0\n",
    "total_tracks = 0\n",
    "\n",
    "number_of_lost_showers = 0\n",
    "number_of_broken_showers = 0\n",
    "number_of_stucked_showers = 0\n",
    "total_number_of_showers = 0\n",
    "number_of_good_showers = 0\n",
    "number_of_survived_showers = 0\n",
    "second_to_first_ratios = []\n",
    "\n",
    "E_raw = []\n",
    "E_true = []\n",
    "\n",
    "x_raw = []\n",
    "x_true = []\n",
    "\n",
    "y_raw = []\n",
    "y_true = []\n",
    "\n",
    "z_raw = []\n",
    "z_true = []\n",
    "\n",
    "tx_raw = []\n",
    "tx_true = []\n",
    "\n",
    "ty_raw = []\n",
    "ty_true = []"
   ]
  },
  {
   "cell_type": "code",
   "execution_count": 8,
   "metadata": {},
   "outputs": [
    {
     "name": "stderr",
     "output_type": "stream",
     "text": [
      "100%|██████████| 10/10 [00:38<00:00,  3.87s/it]\n"
     ]
    }
   ],
   "source": [
    "for clusterized_brick in tqdm(clusterized_bricks):\n",
    "    showers_data = clusterized_brick['graphx'].graph['showers_data']\n",
    "    clusters = clusterized_brick['clusters']\n",
    "    for shower_data in showers_data:\n",
    "        shower_data['clusters'] = []\n",
    "\n",
    "    for cluster in clusters:\n",
    "        selected_tracks += len(cluster)\n",
    "        for label, label_count in class_disbalance_graphx(cluster):\n",
    "            if label_count / showers_data[label]['numtracks'] >= 0.1:\n",
    "                showers_data[label]['clusters'].append(cluster)\n",
    "\n",
    "    for shower_data in showers_data:\n",
    "        total_tracks += shower_data['numtracks']\n",
    "        \n",
    "    for shower_data in showers_data:\n",
    "        total_number_of_showers += 1\n",
    "\n",
    "        signals_per_cluster = []\n",
    "        idx_cluster = []\n",
    "        for i, cluster in enumerate(shower_data['clusters']):\n",
    "            labels, counts = class_disbalance_graphx__(cluster)\n",
    "            signals_per_cluster.append(counts[labels==shower_data['signal']][0])\n",
    "            idx_cluster.append(i)\n",
    "        signals_per_cluster = np.array(signals_per_cluster)\n",
    "        idx_cluster = np.array(idx_cluster)\n",
    "        second_to_first_ratio = 0.\n",
    "        \n",
    "        if len(signals_per_cluster) == 0:\n",
    "            number_of_lost_showers += 1\n",
    "            continue\n",
    "        if len(signals_per_cluster) == 1:\n",
    "            second_to_first_ratio = 0.\n",
    "            second_to_first_ratios.append(second_to_first_ratio)\n",
    "        else:\n",
    "            second_to_first_ratio = np.sort(signals_per_cluster)[-2] / signals_per_cluster.max()\n",
    "            second_to_first_ratios.append(second_to_first_ratio)\n",
    "\n",
    "        cluster = shower_data['clusters'][np.argmax(signals_per_cluster)]\n",
    "\n",
    "        # not enough signal\n",
    "        if (signals_per_cluster.max() / shower_data['numtracks']) <= 0.1:\n",
    "            continue\n",
    "\n",
    "            \n",
    "        labels, counts = class_disbalance_graphx__(cluster)\n",
    "        counts = counts/ counts.sum()\n",
    "        # high contamination\n",
    "        if counts[labels==shower_data['signal']] < 0.9:\n",
    "            number_of_stucked_showers += 1\n",
    "            continue\n",
    "        \n",
    "        if second_to_first_ratio > 0.3:\n",
    "            number_of_broken_showers += 1\n",
    "            continue\n",
    "            \n",
    "            \n",
    "        ## good showers next\n",
    "        number_of_good_showers += 1\n",
    "        # E\n",
    "        E_raw.append(estimate_e(cluster))\n",
    "        E_true.append(shower_data['ele_P'])\n",
    "\n",
    "        # x, y, z\n",
    "        x, y, z = estimate_start_xyz(cluster)\n",
    "\n",
    "        x_raw.append(x)\n",
    "        x_true.append(shower_data['ele_SX'])\n",
    "\n",
    "        y_raw.append(y)\n",
    "        y_true.append(shower_data['ele_SY'])\n",
    "\n",
    "        z_raw.append(z)\n",
    "        z_true.append(shower_data['ele_SZ'])\n",
    "\n",
    "        # tx, ty\n",
    "        tx, ty = estimate_txty(cluster)\n",
    "\n",
    "        tx_raw.append(tx)\n",
    "        tx_true.append(shower_data['ele_TX'])\n",
    "\n",
    "        ty_raw.append(ty)\n",
    "        ty_true.append(shower_data['ele_TY'])"
   ]
  },
  {
   "cell_type": "code",
   "execution_count": 9,
   "metadata": {},
   "outputs": [],
   "source": [
    "E_raw = np.array(E_raw)\n",
    "E_true =  np.array(E_true)\n",
    "\n",
    "x_raw = np.array(x_raw)\n",
    "x_true = np.array(x_true)\n",
    "\n",
    "y_raw =  np.array(y_raw)\n",
    "y_true =  np.array(y_true)\n",
    "\n",
    "z_raw = np.array(z_raw)\n",
    "z_true =np.array(z_true)\n",
    "\n",
    "tx_raw = np.array(tx_raw)\n",
    "tx_true =  np.array(tx_true)\n",
    "\n",
    "ty_raw =  np.array(ty_raw)\n",
    "ty_true =  np.array(ty_true)"
   ]
  },
  {
   "cell_type": "markdown",
   "metadata": {},
   "source": [
    "All scales in micrometers, so to get precision in mm have o devide by 1000"
   ]
  },
  {
   "cell_type": "code",
   "execution_count": 10,
   "metadata": {},
   "outputs": [],
   "source": [
    "scale_mm = 1000"
   ]
  },
  {
   "cell_type": "code",
   "execution_count": 11,
   "metadata": {},
   "outputs": [
    {
     "data": {
      "image/png": "[encoded data removed]",
      "text/plain": [
       "<Figure size 864x576 with 1 Axes>"
      ]
     },
     "metadata": {},
     "output_type": "display_data"
    }
   ],
   "source": [
    "plt.figure(figsize=(12, 8))\n",
    "plt.hist((x_raw - x_true) / scale_mm, bins=100);"
   ]
  },
  {
   "cell_type": "code",
   "execution_count": 12,
   "metadata": {},
   "outputs": [
    {
     "data": {
      "image/png": "[encoded data removed]",
      "text/plain": [
       "<Figure size 864x576 with 1 Axes>"
      ]
     },
     "metadata": {},
     "output_type": "display_data"
    }
   ],
   "source": [
    "plt.figure(figsize=(12, 8))\n",
    "plt.hist((z_raw - z_true) / scale_mm, bins=100);"
   ]
  },
  {
   "cell_type": "code",
   "execution_count": 13,
   "metadata": {},
   "outputs": [
    {
     "data": {
      "text/plain": [
       "<matplotlib.collections.PathCollection at 0x7f085ef64080>"
      ]
     },
     "execution_count": 13,
     "metadata": {},
     "output_type": "execute_result"
    },
    {
     "data": {
      "image/png": "[encoded data removed]",
      "text/plain": [
       "<Figure size 864x576 with 1 Axes>"
      ]
     },
     "metadata": {},
     "output_type": "display_data"
    }
   ],
   "source": [
    "plt.figure(figsize=(12, 8))\n",
    "plt.scatter(E_raw, E_true)"
   ]
  },
  {
   "cell_type": "code",
   "execution_count": 14,
   "metadata": {},
   "outputs": [
    {
     "data": {
      "image/png": "[encoded data removed]",
      "text/plain": [
       "<Figure size 864x576 with 1 Axes>"
      ]
     },
     "metadata": {},
     "output_type": "display_data"
    }
   ],
   "source": [
    "plt.figure(figsize=(12, 8))\n",
    "plt.hist(second_to_first_ratios, bins=50);"
   ]
  },
  {
   "cell_type": "code",
   "execution_count": 15,
   "metadata": {},
   "outputs": [],
   "source": [
    "r = HuberRegressor()\n",
    "\n",
    "r.fit(X=E_raw.reshape((-1, 1)), y=E_true, sample_weight=1/E_true)\n",
    "\n",
    "E_pred = r.predict(E_raw.reshape((-1, 1)))"
   ]
  },
  {
   "cell_type": "code",
   "execution_count": 16,
   "metadata": {},
   "outputs": [
    {
     "data": {
      "image/png": "[encoded data removed]",
      "text/plain": [
       "<Figure size 864x576 with 1 Axes>"
      ]
     },
     "metadata": {},
     "output_type": "display_data"
    }
   ],
   "source": [
    "plt.figure(figsize=(12, 8))\n",
    "plt.hist((E_true - E_pred) / E_true, bins=50);"
   ]
  },
  {
   "cell_type": "code",
   "execution_count": 17,
   "metadata": {},
   "outputs": [
    {
     "name": "stdout",
     "output_type": "stream",
     "text": [
      "Energy resolution = 0.27092643286862184\n",
      "\n",
      "Track efficiency = 0.8683685995211414\n",
      "\n",
      "Good showers = 0.784\n",
      "Stuck showers = 0.1165\n",
      "Broken showers = 0.0835\n",
      "Lost showers = 0.015\n",
      "\n",
      "MAE for x = 0.4454509457050614\n",
      "MAE for y = 0.43971031904239144\n",
      "MAE for z = 1.375612531389509\n",
      "\n",
      "MAE for tx = 0.00639729012881406\n",
      "MAE for ty = 0.0067943658577671005\n"
     ]
    }
   ],
   "source": [
    "print('Energy resolution = {}'.format(np.std((E_true - E_pred) / E_true)))\n",
    "print()\n",
    "print('Track efficiency = {}'.format(selected_tracks / total_tracks))\n",
    "print()\n",
    "print('Good showers = {}'.format(number_of_good_showers / total_number_of_showers))\n",
    "print('Stuck showers = {}'.format(number_of_stucked_showers / total_number_of_showers))\n",
    "print('Broken showers = {}'.format(number_of_broken_showers / total_number_of_showers))\n",
    "print('Lost showers = {}'.format(number_of_lost_showers / total_number_of_showers))\n",
    "print()\n",
    "print('MAE for x = {}'.format(np.abs((x_raw - x_true) / scale_mm).mean()))\n",
    "print('MAE for y = {}'.format(np.abs((y_raw - y_true) / scale_mm).mean()))\n",
    "print('MAE for z = {}'.format(np.abs((z_raw - z_true) / scale_mm).mean()))\n",
    "print()\n",
    "print('MAE for tx = {}'.format(np.abs((tx_raw - tx_true)).mean()))\n",
    "print('MAE for ty = {}'.format(np.abs((ty_raw - ty_true)).mean()))"
   ]
  },
  {
   "cell_type": "code",
   "execution_count": null,
   "metadata": {},
   "outputs": [],
   "source": []
  }
 ],
 "metadata": {
  "kernelspec": {
   "display_name": "Python 3",
   "language": "python",
   "name": "python3"
  },
  "language_info": {
   "codemirror_mode": {
    "name": "ipython",
    "version": 3
   },
   "file_extension": ".py",
   "mimetype": "text/x-python",
   "name": "python",
   "nbconvert_exporter": "python",
   "pygments_lexer": "ipython3",
   "version": "3.6.10"
  }
 },
 "nbformat": 4,
 "nbformat_minor": 2
}
