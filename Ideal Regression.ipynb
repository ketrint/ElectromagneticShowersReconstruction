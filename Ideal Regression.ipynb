{
 "cells": [
  {
   "cell_type": "markdown",
   "metadata": {},
   "source": [
    "### This notebook shows the result for Energy_resolution in case of fully recovered shower."
   ]
  },
  {
   "cell_type": "code",
   "execution_count": null,
   "metadata": {},
   "outputs": [],
   "source": [
    "import pandas as pd\n",
    "import numpy as np\n",
    "from sklearn.linear_model import TheilSenRegressor, LinearRegression, HuberRegressor, RANSACRegressor\n",
    "from random import seed\n",
    "from random import randrange"
   ]
  },
  {
   "cell_type": "code",
   "execution_count": 20,
   "metadata": {},
   "outputs": [
    {
     "name": "stderr",
     "output_type": "stream",
     "text": [
      "/root/miniconda/lib/python3.6/site-packages/numpy/lib/arraysetops.py:569: FutureWarning: elementwise comparison failed; returning scalar instead, but in the future will perform elementwise comparison\n",
      "  mask |= (ar1 == a)\n"
     ]
    }
   ],
   "source": [
    "df = pd.read_csv('data_for_clustering.csv', index_col=[0])"
   ]
  },
  {
   "cell_type": "code",
   "execution_count": 21,
   "metadata": {},
   "outputs": [],
   "source": [
    "X = []\n",
    "E_true = []\n",
    "for i in range(41):\n",
    "    df_ = df[df.Brick_id == i]\n",
    "    X += df_['ele_P'].value_counts().to_list()\n",
    "    E_true +=  [i for i in df_['ele_P'].unique()]"
   ]
  },
  {
   "cell_type": "code",
   "execution_count": 22,
   "metadata": {},
   "outputs": [
    {
     "name": "stdout",
     "output_type": "stream",
     "text": [
      "7999 7999\n"
     ]
    }
   ],
   "source": [
    "print(len(X), len(E_true))"
   ]
  },
  {
   "cell_type": "code",
   "execution_count": 23,
   "metadata": {},
   "outputs": [
    {
     "name": "stdout",
     "output_type": "stream",
     "text": [
      "(200, 1)\n",
      "0.2426376482513215\n",
      "0.2948957477932015\n",
      "0.26171988931916074\n",
      "0.22992464429284393\n",
      "0.22237412629813474\n"
     ]
    }
   ],
   "source": [
    "seed(1)\n",
    "\n",
    "# Split a dataset into k folds\n",
    "def cross_validation_split(dataset, folds=5):\n",
    "    dataset_split = list()\n",
    "    dataset_copy = list(dataset)\n",
    "    fold_size = int(len(dataset) / folds)\n",
    "    for i in range(folds):\n",
    "        fold = list()\n",
    "        while len(fold) < fold_size:\n",
    "            index = randrange(len(dataset_copy))\n",
    "            fold.append(dataset_copy.pop(index))\n",
    "        dataset_split.append(fold)\n",
    "    return dataset_split\n",
    "\n",
    "\n",
    "\n",
    "df_ = df[df.Brick_id == 0.0]\n",
    "X = np.array(df_['ele_P'].value_counts().to_numpy())\n",
    "X = X.reshape((-1, 1))\n",
    "print(X.shape)\n",
    "E_true =  df_['ele_P'].unique()\n",
    "\n",
    "\n",
    "folds = cross_validation_split(X, 5)\n",
    "y = cross_validation_split(E_true, 5)\n",
    "\n",
    "E_pred = []\n",
    "for i in range(len(folds)):\n",
    "    folds_ = folds.copy()\n",
    "    y_ = y.copy()\n",
    "        \n",
    "    r = HuberRegressor()\n",
    "    X = folds_.pop(i)\n",
    "    Y = y_.pop(i)\n",
    "        \n",
    "    folds_new = np.array([item for sublist in folds_ for item in sublist])\n",
    "    y_new = np.array([item for sublist in y_ for item in sublist])\n",
    "\n",
    "    r.fit(folds_new, y_new, sample_weight=1/(y_new)**6)\n",
    "        \n",
    "    Y_pred = r.predict(X)      \n",
    "    print(np.std((Y - Y_pred) / Y))\n",
    "        \n",
    "    E_pred.append(Y_pred)\n",
    "    \n",
    "             \n",
    "scale_mm = 10000\n",
    "Energy_resolution = np.std((E_true - np.mean(E_pred)) / E_true)"
   ]
  },
  {
   "cell_type": "code",
   "execution_count": 24,
   "metadata": {},
   "outputs": [
    {
     "data": {
      "text/plain": [
       "0.25456612791152866"
      ]
     },
     "execution_count": 24,
     "metadata": {},
     "output_type": "execute_result"
    }
   ],
   "source": [
    "Energy_resolution"
   ]
  }
 ],
 "metadata": {
  "kernelspec": {
   "display_name": "Python 3",
   "language": "python",
   "name": "python3"
  },
  "language_info": {
   "codemirror_mode": {
    "name": "ipython",
    "version": 3
   },
   "file_extension": ".py",
   "mimetype": "text/x-python",
   "name": "python",
   "nbconvert_exporter": "python",
   "pygments_lexer": "ipython3",
   "version": "3.6.8"
  }
 },
 "nbformat": 4,
 "nbformat_minor": 2
}
