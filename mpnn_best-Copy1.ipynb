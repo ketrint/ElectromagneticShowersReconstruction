{
 "cells": [
  {
   "cell_type": "code",
   "execution_count": 1,
   "metadata": {},
   "outputs": [],
   "source": [
    "import matplotlib.pyplot as plt\n",
    "import numpy as np\n",
    "import pandas as pd\n",
    "import seaborn as sns\n",
    "sns.set(font_scale=1)\n",
    "\n",
    "import torch\n",
    "import torch.nn as nn\n",
    "import torch.nn.functional as F\n",
    "import torch.optim as optim\n",
    "from torch.nn import Sequential\n",
    "\n",
    "import torch_geometric\n",
    "from torch_geometric.nn import MessagePassing\n",
    "from torch_geometric.utils import add_self_loops, degree\n",
    "import torch_geometric.transforms as T\n",
    "import torch_cluster\n",
    "\n",
    "from torch_geometric.nn import NNConv, GCNConv, GraphConv\n",
    "from torch_geometric.nn import PointConv, EdgeConv, SplineConv\n",
    "\n",
    "from sklearn.cluster import DBSCAN\n",
    "\n",
    "\n",
    "from tqdm import tqdm\n",
    "from IPython.display import clear_output\n",
    "from sklearn.model_selection import train_test_split\n",
    "from sklearn.metrics import roc_auc_score, roc_curve\n",
    "from sklearn.metrics import accuracy_score\n",
    "from sklearn.metrics import precision_recall_curve"
   ]
  },
  {
   "cell_type": "code",
   "execution_count": 2,
   "metadata": {},
   "outputs": [
    {
     "data": {
      "text/plain": [
       "4"
      ]
     },
     "execution_count": 2,
     "metadata": {},
     "output_type": "execute_result"
    }
   ],
   "source": [
    "torch.cuda.device_count()"
   ]
  },
  {
   "cell_type": "code",
   "execution_count": 3,
   "metadata": {},
   "outputs": [],
   "source": [
    "#device = torch.device('cuda:0')\n",
    "device = torch.device('cuda:0')"
   ]
  },
  {
   "cell_type": "code",
   "execution_count": 4,
   "metadata": {
    "scrolled": true
   },
   "outputs": [],
   "source": [
    "#!pip install --upgrade --force-reinstall torch-sparse && pip install --upgrade --force-reinstall torch-cluster && pip install --upgrade --force-reinstall torch-scatter && pip install --upgrade --force-reinstall torch-spline_conv && pip install --upgrade --force-reinstall torch-geometric"
   ]
  },
  {
   "cell_type": "markdown",
   "metadata": {},
   "source": [
    "## Download train data"
   ]
  },
  {
   "cell_type": "code",
   "execution_count": 5,
   "metadata": {},
   "outputs": [],
   "source": [
    "showers_train = torch.load('./EM_data/showers_train.pt')"
   ]
  },
  {
   "cell_type": "code",
   "execution_count": 6,
   "metadata": {},
   "outputs": [
    {
     "data": {
      "text/plain": [
       "230"
      ]
     },
     "execution_count": 6,
     "metadata": {},
     "output_type": "execute_result"
    }
   ],
   "source": [
    "len(showers_train)"
   ]
  },
  {
   "cell_type": "code",
   "execution_count": 7,
   "metadata": {},
   "outputs": [],
   "source": [
    "showers_train = [shower.to(device) for shower in showers_train[:120]]"
   ]
  },
  {
   "cell_type": "code",
   "execution_count": 8,
   "metadata": {},
   "outputs": [
    {
     "data": {
      "text/plain": [
       "120"
      ]
     },
     "execution_count": 8,
     "metadata": {},
     "output_type": "execute_result"
    }
   ],
   "source": [
    "len(showers_train)"
   ]
  },
  {
   "cell_type": "code",
   "execution_count": 9,
   "metadata": {},
   "outputs": [
    {
     "data": {
      "text/plain": [
       "array([ 0,  1,  2,  3,  4,  5,  6,  7,  8,  9, 10, 11, 12, 13, 14, 15, 16,\n",
       "       17, 18, 19, 20, 21, 22])"
      ]
     },
     "execution_count": 9,
     "metadata": {},
     "output_type": "execute_result"
    }
   ],
   "source": [
    "np.unique(showers_train[0].y.cpu().detach().numpy())"
   ]
  },
  {
   "cell_type": "code",
   "execution_count": 10,
   "metadata": {},
   "outputs": [
    {
     "data": {
      "text/plain": [
       "5"
      ]
     },
     "execution_count": 10,
     "metadata": {},
     "output_type": "execute_result"
    }
   ],
   "source": [
    "showers_train[1].x.shape[1]"
   ]
  },
  {
   "cell_type": "markdown",
   "metadata": {},
   "source": [
    "## Features creation"
   ]
  },
  {
   "cell_type": "code",
   "execution_count": 11,
   "metadata": {},
   "outputs": [],
   "source": [
    "for i in range(len(showers_train)):\n",
    "    data = showers_train[i].x\n",
    "    \n",
    "    shape_0 = data.shape[0]\n",
    "    \n",
    "    #azimuthal_angle\n",
    "    feat_0 = torch.atan(data[:, 1]/data[:, 0]).view(shape_0, 1)\n",
    "    \n",
    "    feat_1 = (torch.sqrt(torch.pow(data[:, 1], 2) + torch.pow(data[:, 0],2))\n",
    "              /data[:, 2]).view(shape_0,1)\n",
    "    \n",
    "    feat_2 = (data[:, 0]/data[:, 2]).view(shape_0,1)\n",
    "    \n",
    "    feat_3 = (data[:, 1]/data[:, 2]).view(shape_0,1)\n",
    "    \n",
    "    feat_4 = (torch.sin(feat_0) + torch.cos(feat_0))/feat_0\n",
    "    \n",
    "    showers_train[i].x = torch.cat((data, feat_0, feat_1, feat_2, feat_3, feat_4), 1)"
   ]
  },
  {
   "cell_type": "code",
   "execution_count": 12,
   "metadata": {},
   "outputs": [
    {
     "data": {
      "text/plain": [
       "10"
      ]
     },
     "execution_count": 12,
     "metadata": {},
     "output_type": "execute_result"
    }
   ],
   "source": [
    "showers_train[1].x.shape[1]"
   ]
  },
  {
   "cell_type": "code",
   "execution_count": 13,
   "metadata": {},
   "outputs": [
    {
     "data": {
      "text/plain": [
       "tensor([-1.0178, -0.8698, -2.4331, -0.1505,  0.1620,  0.7071, -0.5502,  0.4183,\n",
       "         0.3575,  1.9938], device='cuda:0')"
      ]
     },
     "execution_count": 13,
     "metadata": {},
     "output_type": "execute_result"
    }
   ],
   "source": [
    "showers_train[0].x[0]"
   ]
  },
  {
   "cell_type": "markdown",
   "metadata": {},
   "source": [
    "## Checking weather edges connect hits from the same shower"
   ]
  },
  {
   "cell_type": "markdown",
   "metadata": {},
   "source": [
    "We need to compare Z-coordinates of each brick layer with our data Z-coordinate"
   ]
  },
  {
   "cell_type": "code",
   "execution_count": 14,
   "metadata": {},
   "outputs": [],
   "source": [
    "Z = np.array([     0.,   1293.,   2586.,   3879.,   5172.,   6465.,   7758.,\n",
    "                          9051.,  10344.,  11637.,  12930.,  14223.,  15516.,  16809.,\n",
    "                         18102.,  19395.,  20688.,  21981.,  23274.,  24567.,  25860.,\n",
    "                         27153.,  28446.,  29739.,  31032.,  32325.,  33618.,  34911.,\n",
    "                         36204.,  37497.,  38790.,  40083.,  41376.,  42669.,  43962.,\n",
    "                         45255.,  46548.,  47841.,  49134.,  50427.,  51720.,  53013.,\n",
    "                         54306.,  55599.,  56892.,  58185.,  59478.,  60771.,  62064.,\n",
    "                         63357.,  64650.,  65943.,  67236.,  68529.,  69822.,  71115.,\n",
    "                         72408.,  73701.])"
   ]
  },
  {
   "cell_type": "code",
   "execution_count": 15,
   "metadata": {},
   "outputs": [],
   "source": [
    "Z_centered = Z - 73701. / 2"
   ]
  },
  {
   "cell_type": "code",
   "execution_count": 16,
   "metadata": {},
   "outputs": [
    {
     "data": {
      "text/plain": [
       "array([-36850.5, -35557.5, -34264.5, -32971.5, -31678.5, -30385.5,\n",
       "       -29092.5, -27799.5, -26506.5, -25213.5, -23920.5, -22627.5,\n",
       "       -21334.5, -20041.5, -18748.5, -17455.5, -16162.5, -14869.5,\n",
       "       -13576.5, -12283.5, -10990.5,  -9697.5,  -8404.5,  -7111.5,\n",
       "        -5818.5,  -4525.5,  -3232.5,  -1939.5,   -646.5,    646.5,\n",
       "         1939.5,   3232.5,   4525.5,   5818.5,   7111.5,   8404.5,\n",
       "         9697.5,  10990.5,  12283.5,  13576.5,  14869.5,  16162.5,\n",
       "        17455.5,  18748.5,  20041.5,  21334.5,  22627.5,  23920.5,\n",
       "        25213.5,  26506.5,  27799.5,  29092.5,  30385.5,  31678.5,\n",
       "        32971.5,  34264.5,  35557.5,  36850.5])"
      ]
     },
     "execution_count": 16,
     "metadata": {},
     "output_type": "execute_result"
    }
   ],
   "source": [
    "Z_centered"
   ]
  },
  {
   "cell_type": "code",
   "execution_count": 17,
   "metadata": {},
   "outputs": [],
   "source": [
    "Z_0 = np.array(showers_train[0].x[:, 2].cpu())*np.array([1e4])"
   ]
  },
  {
   "cell_type": "code",
   "execution_count": 18,
   "metadata": {},
   "outputs": [
    {
     "data": {
      "text/plain": [
       "array([-24330.68990707, -23056.30922318, -21785.49051285, ...,\n",
       "        34226.60112381,  34224.50065613,  34225.58069229])"
      ]
     },
     "execution_count": 18,
     "metadata": {},
     "output_type": "execute_result"
    }
   ],
   "source": [
    "Z_0"
   ]
  },
  {
   "cell_type": "code",
   "execution_count": 19,
   "metadata": {},
   "outputs": [
    {
     "data": {
      "image/png": "[encoded data removed]",
      "text/plain": [
       "<Figure size 720x360 with 1 Axes>"
      ]
     },
     "metadata": {
      "needs_background": "light"
     },
     "output_type": "display_data"
    }
   ],
   "source": [
    "plt.figure(figsize=(10, 5))\n",
    "\n",
    "# the histogram of the data\n",
    "plt.hist(Z_0, 100, density=True)\n",
    "\n",
    "plt.grid(True)\n",
    "plt.show()\n"
   ]
  },
  {
   "cell_type": "code",
   "execution_count": 20,
   "metadata": {},
   "outputs": [
    {
     "data": {
      "image/png": "[encoded data removed]",
      "text/plain": [
       "<Figure size 720x360 with 1 Axes>"
      ]
     },
     "metadata": {
      "needs_background": "light"
     },
     "output_type": "display_data"
    }
   ],
   "source": [
    "plt.figure(figsize=(10, 5))\n",
    "\n",
    "# the histogram of the data\n",
    "plt.hist(Z_centered, 100, density=True)\n",
    "\n",
    "plt.grid(True)\n",
    "plt.show()"
   ]
  },
  {
   "cell_type": "markdown",
   "metadata": {},
   "source": [
    "## Masks for activating only those edges that are connecting the same shower"
   ]
  },
  {
   "cell_type": "code",
   "execution_count": 21,
   "metadata": {},
   "outputs": [],
   "source": [
    "def round_Z_coodr(x):\n",
    "        return Z_centered[np.argmin(np.abs(Z_centered - x))]\n",
    "round_Z_coodr = np.vectorize(round_Z_coodr)\n",
    "    \n",
    "def mask(data):\n",
    "    x = data.x[:, 2]\n",
    "    \n",
    "    Z_0 = np.array(x.cpu()) * np.array([1e4])\n",
    "    \n",
    "    z_rounded = round_Z_coodr(Z_0)\n",
    "    \n",
    "    orders = np.zeros((len(Z_centered), data.edge_index.shape[1]))\n",
    "\n",
    "    for i, z_i in enumerate(Z_centered):\n",
    "        for j, z_0_i in enumerate(z_rounded):\n",
    "            if z_0_i == z_i:\n",
    "                # TODO data.edge_index[0] vs data.edge_index[1]\n",
    "                orders[i][(data.edge_index[0] == j).cpu().numpy().astype(bool)] = 1\n",
    "            \n",
    "    return orders.astype(np.uint8)"
   ]
  },
  {
   "cell_type": "code",
   "execution_count": 22,
   "metadata": {},
   "outputs": [],
   "source": [
    "masks = []\n",
    "for i in range(len(showers_train)):\n",
    "    masks.append(mask(showers_train[i]))"
   ]
  },
  {
   "cell_type": "markdown",
   "metadata": {},
   "source": [
    "## GNN "
   ]
  },
  {
   "cell_type": "code",
   "execution_count": 23,
   "metadata": {},
   "outputs": [],
   "source": [
    "class EmulsionConv(MessagePassing):\n",
    "    def __init__(self, in_channels, out_channels):\n",
    "        super().__init__(aggr='add')\n",
    "        self.mp = torch.nn.Linear(in_channels * 2, out_channels).to(device)\n",
    "        \n",
    "    def forward(self, x, edge_index, orders):\n",
    "        for order in orders: \n",
    "            x = self.propagate(torch.index_select(edge_index[:, torch.ByteTensor(order).to(device)], \n",
    "                                                  0, \n",
    "                                                  torch.LongTensor([1, 0]).to(device)), x=x)     \n",
    "            \n",
    "        return x\n",
    "\n",
    "    def message(self, x_j, x_i):\n",
    "        return self.mp(torch.cat([x_i, x_j - x_i], dim=1))\n",
    "\n",
    "    def update(self, aggr_out, x):\n",
    "        return aggr_out + x"
   ]
  },
  {
   "cell_type": "code",
   "execution_count": 24,
   "metadata": {},
   "outputs": [],
   "source": [
    "n = showers_train[0].x.shape[1]\n",
    "\n",
    "class GraphNN_KNN(torch.nn.Module):\n",
    "    n = showers_train[0].x.shape[1]\n",
    "    \n",
    "    def __init__(self, k=n, dim_out=10):\n",
    "        super().__init__()\n",
    "        self.k = k\n",
    "        \n",
    "        self.emconv = EmulsionConv(self.k, self.k)    \n",
    "      \n",
    "        self.layer_2 = nn.Linear(self.k, 18)\n",
    "        self.nonlinear_2 = nn.LeakyReLU()\n",
    "        \n",
    "        self.layer_3 = nn.Linear(18, 24)\n",
    "        self.nonlinear_3 = nn.ReLU()\n",
    "\n",
    "        \n",
    "        self.output = nn.Linear(24, dim_out)\n",
    "        \n",
    "        \n",
    "    def forward(self, data):\n",
    "        x, edge_index, orders = data.x, data.edge_index, data.mask\n",
    "        \n",
    "        x = self.emconv(x=x, edge_index=edge_index, orders=orders)  \n",
    "        \n",
    "        x = self.nonlinear_2(self.layer_2(x))\n",
    "        \n",
    "        x = self.nonlinear_3(self.layer_3(x))\n",
    "        \n",
    "        \n",
    "        return self.output(x)\n"
   ]
  },
  {
   "cell_type": "code",
   "execution_count": 25,
   "metadata": {},
   "outputs": [],
   "source": [
    "model = GraphNN_KNN(dim_out=288).to(device)"
   ]
  },
  {
   "cell_type": "code",
   "execution_count": 26,
   "metadata": {},
   "outputs": [
    {
     "name": "stdout",
     "output_type": "stream",
     "text": [
      "Batch(batch=[10628], edge_attr=[53125, 1], edge_index=[2, 53125], pos=[10628, 5], x=[10628, 10], y=[10628])\n",
      "1\n",
      "Batch(batch=[12719], edge_attr=[63580, 1], edge_index=[2, 63580], pos=[12719, 5], x=[12719, 10], y=[12719])\n",
      "1\n",
      "Batch(batch=[14049], edge_attr=[70230, 1], edge_index=[2, 70230], pos=[14049, 5], x=[14049, 10], y=[14049])\n",
      "1\n",
      "Batch(batch=[11878], edge_attr=[59375, 1], edge_index=[2, 59375], pos=[11878, 5], x=[11878, 10], y=[11878])\n",
      "1\n",
      "Batch(batch=[12380], edge_attr=[61885, 1], edge_index=[2, 61885], pos=[12380, 5], x=[12380, 10], y=[12380])\n",
      "1\n",
      "Batch(batch=[17772], edge_attr=[88845, 1], edge_index=[2, 88845], pos=[17772, 5], x=[17772, 10], y=[17772])\n",
      "1\n",
      "Batch(batch=[10884], edge_attr=[54405, 1], edge_index=[2, 54405], pos=[10884, 5], x=[10884, 10], y=[10884])\n",
      "1\n",
      "Batch(batch=[10483], edge_attr=[52400, 1], edge_index=[2, 52400], pos=[10483, 5], x=[10483, 10], y=[10483])\n",
      "1\n",
      "Batch(batch=[10999], edge_attr=[54980, 1], edge_index=[2, 54980], pos=[10999, 5], x=[10999, 10], y=[10999])\n",
      "1\n",
      "Batch(batch=[13543], edge_attr=[67700, 1], edge_index=[2, 67700], pos=[13543, 5], x=[13543, 10], y=[13543])\n",
      "1\n",
      "Batch(batch=[14931], edge_attr=[74640, 1], edge_index=[2, 74640], pos=[14931, 5], x=[14931, 10], y=[14931])\n",
      "1\n",
      "Batch(batch=[12234], edge_attr=[61155, 1], edge_index=[2, 61155], pos=[12234, 5], x=[12234, 10], y=[12234])\n",
      "1\n",
      "Batch(batch=[10953], edge_attr=[54750, 1], edge_index=[2, 54750], pos=[10953, 5], x=[10953, 10], y=[10953])\n",
      "1\n",
      "Batch(batch=[11495], edge_attr=[57460, 1], edge_index=[2, 57460], pos=[11495, 5], x=[11495, 10], y=[11495])\n",
      "1\n",
      "Batch(batch=[10844], edge_attr=[54205, 1], edge_index=[2, 54205], pos=[10844, 5], x=[10844, 10], y=[10844])\n",
      "1\n",
      "Batch(batch=[10038], edge_attr=[50175, 1], edge_index=[2, 50175], pos=[10038, 5], x=[10038, 10], y=[10038])\n",
      "1\n",
      "Batch(batch=[8343], edge_attr=[41700, 1], edge_index=[2, 41700], pos=[8343, 5], x=[8343, 10], y=[8343])\n",
      "1\n",
      "Batch(batch=[15647], edge_attr=[78220, 1], edge_index=[2, 78220], pos=[15647, 5], x=[15647, 10], y=[15647])\n",
      "1\n",
      "Batch(batch=[14895], edge_attr=[74460, 1], edge_index=[2, 74460], pos=[14895, 5], x=[14895, 10], y=[14895])\n",
      "1\n",
      "Batch(batch=[14460], edge_attr=[72285, 1], edge_index=[2, 72285], pos=[14460, 5], x=[14460, 10], y=[14460])\n",
      "1\n",
      "Batch(batch=[7660], edge_attr=[38285, 1], edge_index=[2, 38285], pos=[7660, 5], x=[7660, 10], y=[7660])\n",
      "1\n",
      "Batch(batch=[13701], edge_attr=[68490, 1], edge_index=[2, 68490], pos=[13701, 5], x=[13701, 10], y=[13701])\n",
      "1\n",
      "Batch(batch=[8671], edge_attr=[43340, 1], edge_index=[2, 43340], pos=[8671, 5], x=[8671, 10], y=[8671])\n",
      "1\n",
      "Batch(batch=[9493], edge_attr=[47450, 1], edge_index=[2, 47450], pos=[9493, 5], x=[9493, 10], y=[9493])\n",
      "1\n",
      "Batch(batch=[13493], edge_attr=[67450, 1], edge_index=[2, 67450], pos=[13493, 5], x=[13493, 10], y=[13493])\n",
      "1\n",
      "Batch(batch=[14738], edge_attr=[73675, 1], edge_index=[2, 73675], pos=[14738, 5], x=[14738, 10], y=[14738])\n",
      "1\n",
      "Batch(batch=[12474], edge_attr=[62355, 1], edge_index=[2, 62355], pos=[12474, 5], x=[12474, 10], y=[12474])\n",
      "1\n",
      "Batch(batch=[13349], edge_attr=[66730, 1], edge_index=[2, 66730], pos=[13349, 5], x=[13349, 10], y=[13349])\n",
      "1\n",
      "Batch(batch=[14527], edge_attr=[72620, 1], edge_index=[2, 72620], pos=[14527, 5], x=[14527, 10], y=[14527])\n",
      "1\n",
      "Batch(batch=[13569], edge_attr=[67830, 1], edge_index=[2, 67830], pos=[13569, 5], x=[13569, 10], y=[13569])\n",
      "1\n",
      "Batch(batch=[11400], edge_attr=[56985, 1], edge_index=[2, 56985], pos=[11400, 5], x=[11400, 10], y=[11400])\n",
      "1\n",
      "Batch(batch=[10183], edge_attr=[50900, 1], edge_index=[2, 50900], pos=[10183, 5], x=[10183, 10], y=[10183])\n",
      "1\n",
      "Batch(batch=[16638], edge_attr=[83175, 1], edge_index=[2, 83175], pos=[16638, 5], x=[16638, 10], y=[16638])\n",
      "1\n",
      "Batch(batch=[17982], edge_attr=[89895, 1], edge_index=[2, 89895], pos=[17982, 5], x=[17982, 10], y=[17982])\n",
      "1\n",
      "Batch(batch=[13348], edge_attr=[66725, 1], edge_index=[2, 66725], pos=[13348, 5], x=[13348, 10], y=[13348])\n",
      "1\n",
      "Batch(batch=[14710], edge_attr=[73535, 1], edge_index=[2, 73535], pos=[14710, 5], x=[14710, 10], y=[14710])\n",
      "1\n",
      "Batch(batch=[10235], edge_attr=[51160, 1], edge_index=[2, 51160], pos=[10235, 5], x=[10235, 10], y=[10235])\n",
      "1\n",
      "Batch(batch=[14089], edge_attr=[70430, 1], edge_index=[2, 70430], pos=[14089, 5], x=[14089, 10], y=[14089])\n",
      "1\n",
      "Batch(batch=[8857], edge_attr=[44269, 1], edge_index=[2, 44269], pos=[8857, 5], x=[8857, 10], y=[8857])\n",
      "1\n",
      "Batch(batch=[13679], edge_attr=[68380, 1], edge_index=[2, 68380], pos=[13679, 5], x=[13679, 10], y=[13679])\n",
      "1\n",
      "Batch(batch=[14840], edge_attr=[74185, 1], edge_index=[2, 74185], pos=[14840, 5], x=[14840, 10], y=[14840])\n",
      "1\n",
      "Batch(batch=[10186], edge_attr=[50915, 1], edge_index=[2, 50915], pos=[10186, 5], x=[10186, 10], y=[10186])\n",
      "1\n",
      "Batch(batch=[14237], edge_attr=[71170, 1], edge_index=[2, 71170], pos=[14237, 5], x=[14237, 10], y=[14237])\n",
      "1\n",
      "Batch(batch=[15206], edge_attr=[76013, 1], edge_index=[2, 76013], pos=[15206, 5], x=[15206, 10], y=[15206])\n",
      "1\n",
      "Batch(batch=[15576], edge_attr=[77865, 1], edge_index=[2, 77865], pos=[15576, 5], x=[15576, 10], y=[15576])\n",
      "1\n",
      "Batch(batch=[13373], edge_attr=[66849, 1], edge_index=[2, 66849], pos=[13373, 5], x=[13373, 10], y=[13373])\n",
      "1\n",
      "Batch(batch=[16446], edge_attr=[82215, 1], edge_index=[2, 82215], pos=[16446, 5], x=[16446, 10], y=[16446])\n",
      "1\n",
      "Batch(batch=[14620], edge_attr=[73085, 1], edge_index=[2, 73085], pos=[14620, 5], x=[14620, 10], y=[14620])\n",
      "1\n",
      "Batch(batch=[13852], edge_attr=[69245, 1], edge_index=[2, 69245], pos=[13852, 5], x=[13852, 10], y=[13852])\n",
      "1\n",
      "Batch(batch=[11322], edge_attr=[56595, 1], edge_index=[2, 56595], pos=[11322, 5], x=[11322, 10], y=[11322])\n",
      "1\n",
      "Batch(batch=[14852], edge_attr=[74245, 1], edge_index=[2, 74245], pos=[14852, 5], x=[14852, 10], y=[14852])\n",
      "1\n",
      "Batch(batch=[17624], edge_attr=[88105, 1], edge_index=[2, 88105], pos=[17624, 5], x=[17624, 10], y=[17624])\n",
      "1\n",
      "Batch(batch=[12986], edge_attr=[64915, 1], edge_index=[2, 64915], pos=[12986, 5], x=[12986, 10], y=[12986])\n",
      "1\n",
      "Batch(batch=[16481], edge_attr=[82390, 1], edge_index=[2, 82390], pos=[16481, 5], x=[16481, 10], y=[16481])\n",
      "1\n",
      "Batch(batch=[12443], edge_attr=[62200, 1], edge_index=[2, 62200], pos=[12443, 5], x=[12443, 10], y=[12443])\n",
      "1\n",
      "Batch(batch=[8662], edge_attr=[43295, 1], edge_index=[2, 43295], pos=[8662, 5], x=[8662, 10], y=[8662])\n",
      "1\n",
      "Batch(batch=[15038], edge_attr=[75175, 1], edge_index=[2, 75175], pos=[15038, 5], x=[15038, 10], y=[15038])\n",
      "1\n",
      "Batch(batch=[19052], edge_attr=[95244, 1], edge_index=[2, 95244], pos=[19052, 5], x=[19052, 10], y=[19052])\n",
      "1\n",
      "Batch(batch=[13903], edge_attr=[69500, 1], edge_index=[2, 69500], pos=[13903, 5], x=[13903, 10], y=[13903])\n",
      "1\n",
      "Batch(batch=[11647], edge_attr=[58220, 1], edge_index=[2, 58220], pos=[11647, 5], x=[11647, 10], y=[11647])\n",
      "1\n",
      "Batch(batch=[15151], edge_attr=[75739, 1], edge_index=[2, 75739], pos=[15151, 5], x=[15151, 10], y=[15151])\n",
      "1\n",
      "Batch(batch=[10226], edge_attr=[51115, 1], edge_index=[2, 51115], pos=[10226, 5], x=[10226, 10], y=[10226])\n",
      "1\n",
      "Batch(batch=[14481], edge_attr=[72390, 1], edge_index=[2, 72390], pos=[14481, 5], x=[14481, 10], y=[14481])\n",
      "1\n",
      "Batch(batch=[9115], edge_attr=[45559, 1], edge_index=[2, 45559], pos=[9115, 5], x=[9115, 10], y=[9115])\n",
      "1\n",
      "Batch(batch=[13334], edge_attr=[66655, 1], edge_index=[2, 66655], pos=[13334, 5], x=[13334, 10], y=[13334])\n",
      "1\n",
      "Batch(batch=[13486], edge_attr=[67415, 1], edge_index=[2, 67415], pos=[13486, 5], x=[13486, 10], y=[13486])\n",
      "1\n",
      "Batch(batch=[10173], edge_attr=[50849, 1], edge_index=[2, 50849], pos=[10173, 5], x=[10173, 10], y=[10173])\n",
      "1\n",
      "Batch(batch=[10725], edge_attr=[53610, 1], edge_index=[2, 53610], pos=[10725, 5], x=[10725, 10], y=[10725])\n",
      "1\n",
      "Batch(batch=[10043], edge_attr=[50200, 1], edge_index=[2, 50200], pos=[10043, 5], x=[10043, 10], y=[10043])\n",
      "1\n",
      "Batch(batch=[11409], edge_attr=[57030, 1], edge_index=[2, 57030], pos=[11409, 5], x=[11409, 10], y=[11409])\n",
      "1\n",
      "Batch(batch=[13774], edge_attr=[68855, 1], edge_index=[2, 68855], pos=[13774, 5], x=[13774, 10], y=[13774])\n",
      "1\n",
      "Batch(batch=[8486], edge_attr=[42414, 1], edge_index=[2, 42414], pos=[8486, 5], x=[8486, 10], y=[8486])\n",
      "1\n",
      "Batch(batch=[12951], edge_attr=[64740, 1], edge_index=[2, 64740], pos=[12951, 5], x=[12951, 10], y=[12951])\n",
      "1\n",
      "Batch(batch=[12375], edge_attr=[61860, 1], edge_index=[2, 61860], pos=[12375, 5], x=[12375, 10], y=[12375])\n",
      "1\n",
      "Batch(batch=[19295], edge_attr=[96460, 1], edge_index=[2, 96460], pos=[19295, 5], x=[19295, 10], y=[19295])\n",
      "1\n",
      "Batch(batch=[9759], edge_attr=[48779, 1], edge_index=[2, 48779], pos=[9759, 5], x=[9759, 10], y=[9759])\n",
      "1\n",
      "Batch(batch=[13197], edge_attr=[65969, 1], edge_index=[2, 65969], pos=[13197, 5], x=[13197, 10], y=[13197])\n",
      "1\n",
      "Batch(batch=[9324], edge_attr=[46605, 1], edge_index=[2, 46605], pos=[9324, 5], x=[9324, 10], y=[9324])\n",
      "1\n",
      "Batch(batch=[12304], edge_attr=[61505, 1], edge_index=[2, 61505], pos=[12304, 5], x=[12304, 10], y=[12304])\n",
      "1\n",
      "Batch(batch=[14336], edge_attr=[71663, 1], edge_index=[2, 71663], pos=[14336, 5], x=[14336, 10], y=[14336])\n",
      "1\n",
      "Batch(batch=[7747], edge_attr=[38720, 1], edge_index=[2, 38720], pos=[7747, 5], x=[7747, 10], y=[7747])\n",
      "1\n",
      "Batch(batch=[11901], edge_attr=[59490, 1], edge_index=[2, 59490], pos=[11901, 5], x=[11901, 10], y=[11901])\n",
      "1\n",
      "Batch(batch=[12878], edge_attr=[64375, 1], edge_index=[2, 64375], pos=[12878, 5], x=[12878, 10], y=[12878])\n",
      "1\n",
      "Batch(batch=[11759], edge_attr=[58780, 1], edge_index=[2, 58780], pos=[11759, 5], x=[11759, 10], y=[11759])\n",
      "1\n",
      "Batch(batch=[11323], edge_attr=[56599, 1], edge_index=[2, 56599], pos=[11323, 5], x=[11323, 10], y=[11323])\n",
      "1\n",
      "Batch(batch=[13078], edge_attr=[65375, 1], edge_index=[2, 65375], pos=[13078, 5], x=[13078, 10], y=[13078])\n",
      "1\n",
      "Batch(batch=[9090], edge_attr=[45435, 1], edge_index=[2, 45435], pos=[9090, 5], x=[9090, 10], y=[9090])\n",
      "1\n",
      "Batch(batch=[13469], edge_attr=[67330, 1], edge_index=[2, 67330], pos=[13469, 5], x=[13469, 10], y=[13469])\n",
      "1\n",
      "Batch(batch=[12310], edge_attr=[61534, 1], edge_index=[2, 61534], pos=[12310, 5], x=[12310, 10], y=[12310])\n",
      "1\n",
      "Batch(batch=[11046], edge_attr=[55215, 1], edge_index=[2, 55215], pos=[11046, 5], x=[11046, 10], y=[11046])\n",
      "1\n",
      "Batch(batch=[17171], edge_attr=[85840, 1], edge_index=[2, 85840], pos=[17171, 5], x=[17171, 10], y=[17171])\n",
      "1\n",
      "Batch(batch=[10418], edge_attr=[52075, 1], edge_index=[2, 52075], pos=[10418, 5], x=[10418, 10], y=[10418])\n",
      "1\n",
      "Batch(batch=[18352], edge_attr=[91745, 1], edge_index=[2, 91745], pos=[18352, 5], x=[18352, 10], y=[18352])\n",
      "1\n",
      "Batch(batch=[17379], edge_attr=[86880, 1], edge_index=[2, 86880], pos=[17379, 5], x=[17379, 10], y=[17379])\n",
      "1\n",
      "Batch(batch=[15476], edge_attr=[77364, 1], edge_index=[2, 77364], pos=[15476, 5], x=[15476, 10], y=[15476])\n",
      "1\n",
      "Batch(batch=[16302], edge_attr=[81495, 1], edge_index=[2, 81495], pos=[16302, 5], x=[16302, 10], y=[16302])\n",
      "1\n",
      "Batch(batch=[12020], edge_attr=[60085, 1], edge_index=[2, 60085], pos=[12020, 5], x=[12020, 10], y=[12020])\n",
      "1\n",
      "Batch(batch=[14469], edge_attr=[72330, 1], edge_index=[2, 72330], pos=[14469, 5], x=[14469, 10], y=[14469])\n",
      "1\n",
      "Batch(batch=[17576], edge_attr=[87865, 1], edge_index=[2, 87865], pos=[17576, 5], x=[17576, 10], y=[17576])\n",
      "1\n",
      "Batch(batch=[18009], edge_attr=[90030, 1], edge_index=[2, 90030], pos=[18009, 5], x=[18009, 10], y=[18009])\n",
      "1\n",
      "Batch(batch=[12314], edge_attr=[61554, 1], edge_index=[2, 61554], pos=[12314, 5], x=[12314, 10], y=[12314])\n",
      "1\n",
      "Batch(batch=[13052], edge_attr=[65245, 1], edge_index=[2, 65245], pos=[13052, 5], x=[13052, 10], y=[13052])\n",
      "1\n",
      "Batch(batch=[11104], edge_attr=[55505, 1], edge_index=[2, 55505], pos=[11104, 5], x=[11104, 10], y=[11104])\n",
      "1\n",
      "Batch(batch=[15262], edge_attr=[76295, 1], edge_index=[2, 76295], pos=[15262, 5], x=[15262, 10], y=[15262])\n",
      "1\n",
      "Batch(batch=[15455], edge_attr=[77260, 1], edge_index=[2, 77260], pos=[15455, 5], x=[15455, 10], y=[15455])\n",
      "1\n",
      "Batch(batch=[13190], edge_attr=[65934, 1], edge_index=[2, 65934], pos=[13190, 5], x=[13190, 10], y=[13190])\n",
      "1\n",
      "Batch(batch=[8582], edge_attr=[42895, 1], edge_index=[2, 42895], pos=[8582, 5], x=[8582, 10], y=[8582])\n",
      "1\n",
      "Batch(batch=[16058], edge_attr=[80275, 1], edge_index=[2, 80275], pos=[16058, 5], x=[16058, 10], y=[16058])\n",
      "1\n",
      "Batch(batch=[12829], edge_attr=[64130, 1], edge_index=[2, 64130], pos=[12829, 5], x=[12829, 10], y=[12829])\n",
      "1\n",
      "Batch(batch=[17647], edge_attr=[88219, 1], edge_index=[2, 88219], pos=[17647, 5], x=[17647, 10], y=[17647])\n",
      "1\n",
      "Batch(batch=[13265], edge_attr=[66310, 1], edge_index=[2, 66310], pos=[13265, 5], x=[13265, 10], y=[13265])\n",
      "1\n",
      "Batch(batch=[8429], edge_attr=[42130, 1], edge_index=[2, 42130], pos=[8429, 5], x=[8429, 10], y=[8429])\n",
      "1\n",
      "Batch(batch=[8695], edge_attr=[43460, 1], edge_index=[2, 43460], pos=[8695, 5], x=[8695, 10], y=[8695])\n",
      "1\n",
      "Batch(batch=[11613], edge_attr=[58050, 1], edge_index=[2, 58050], pos=[11613, 5], x=[11613, 10], y=[11613])\n",
      "1\n",
      "Batch(batch=[15012], edge_attr=[75044, 1], edge_index=[2, 75044], pos=[15012, 5], x=[15012, 10], y=[15012])\n",
      "1\n",
      "Batch(batch=[10690], edge_attr=[53435, 1], edge_index=[2, 53435], pos=[10690, 5], x=[10690, 10], y=[10690])\n",
      "1\n",
      "Batch(batch=[14555], edge_attr=[72760, 1], edge_index=[2, 72760], pos=[14555, 5], x=[14555, 10], y=[14555])\n",
      "1\n",
      "Batch(batch=[12524], edge_attr=[62605, 1], edge_index=[2, 62605], pos=[12524, 5], x=[12524, 10], y=[12524])\n",
      "1\n",
      "Batch(batch=[13906], edge_attr=[69514, 1], edge_index=[2, 69514], pos=[13906, 5], x=[13906, 10], y=[13906])\n",
      "1\n",
      "Batch(batch=[9590], edge_attr=[47935, 1], edge_index=[2, 47935], pos=[9590, 5], x=[9590, 10], y=[9590])\n",
      "1\n"
     ]
    }
   ],
   "source": [
    "from torch_geometric.data import DataLoader\n",
    "\n",
    "\n",
    "loader = DataLoader(showers_train, batch_size=1, shuffle=False)\n",
    "\n",
    "for batch in loader:\n",
    "    print(batch)\n",
    "    \n",
    "    print(batch.num_graphs)   "
   ]
  },
  {
   "cell_type": "code",
   "execution_count": 27,
   "metadata": {},
   "outputs": [],
   "source": [
    "for i in range(len(showers_train)):\n",
    "    showers_train[i].mask = torch.tensor(masks[i], dtype=torch.uint8)"
   ]
  },
  {
   "cell_type": "code",
   "execution_count": 28,
   "metadata": {},
   "outputs": [],
   "source": [
    "train, test = train_test_split(showers_train)"
   ]
  },
  {
   "cell_type": "code",
   "execution_count": 29,
   "metadata": {},
   "outputs": [
    {
     "data": {
      "text/plain": [
       "Data(edge_attr=[68380, 1], edge_index=[2, 68380], mask=[58, 68380], pos=[13679, 5], x=[13679, 10], y=[13679])"
      ]
     },
     "execution_count": 29,
     "metadata": {},
     "output_type": "execute_result"
    }
   ],
   "source": [
    "test[0]"
   ]
  },
  {
   "cell_type": "code",
   "execution_count": 30,
   "metadata": {},
   "outputs": [],
   "source": [
    "train_loader = DataLoader(train, batch_size=1, shuffle=False)\n",
    "\n",
    "#valid_loader = torch.utils.data.DataLoader(train_data, batch_size=batch_size, \n",
    "    #sampler=valid_sampler, num_workers=num_workers)\n",
    "\n",
    "test_loader = DataLoader(test, batch_size=1, shuffle=False)"
   ]
  },
  {
   "cell_type": "code",
   "execution_count": 31,
   "metadata": {},
   "outputs": [
    {
     "name": "stdout",
     "output_type": "stream",
     "text": [
      "Batch(batch=[13679], edge_attr=[68380, 1], edge_index=[2, 68380], mask=[58, 68380], pos=[13679, 5], x=[13679, 10], y=[13679])\n",
      "Batch(batch=[11647], edge_attr=[58220, 1], edge_index=[2, 58220], mask=[58, 58220], pos=[11647, 5], x=[11647, 10], y=[11647])\n",
      "Batch(batch=[13852], edge_attr=[69245, 1], edge_index=[2, 69245], mask=[58, 69245], pos=[13852, 5], x=[13852, 10], y=[13852])\n",
      "Batch(batch=[15455], edge_attr=[77260, 1], edge_index=[2, 77260], mask=[58, 77260], pos=[15455, 5], x=[15455, 10], y=[15455])\n",
      "Batch(batch=[10999], edge_attr=[54980, 1], edge_index=[2, 54980], mask=[58, 54980], pos=[10999, 5], x=[10999, 10], y=[10999])\n",
      "Batch(batch=[8429], edge_attr=[42130, 1], edge_index=[2, 42130], mask=[58, 42130], pos=[8429, 5], x=[8429, 10], y=[8429])\n",
      "Batch(batch=[17982], edge_attr=[89895, 1], edge_index=[2, 89895], mask=[58, 89895], pos=[17982, 5], x=[17982, 10], y=[17982])\n",
      "Batch(batch=[7747], edge_attr=[38720, 1], edge_index=[2, 38720], mask=[58, 38720], pos=[7747, 5], x=[7747, 10], y=[7747])\n",
      "Batch(batch=[14931], edge_attr=[74640, 1], edge_index=[2, 74640], mask=[58, 74640], pos=[14931, 5], x=[14931, 10], y=[14931])\n",
      "Batch(batch=[14710], edge_attr=[73535, 1], edge_index=[2, 73535], mask=[58, 73535], pos=[14710, 5], x=[14710, 10], y=[14710])\n",
      "Batch(batch=[10173], edge_attr=[50849, 1], edge_index=[2, 50849], mask=[58, 50849], pos=[10173, 5], x=[10173, 10], y=[10173])\n",
      "Batch(batch=[12524], edge_attr=[62605, 1], edge_index=[2, 62605], mask=[58, 62605], pos=[12524, 5], x=[12524, 10], y=[12524])\n",
      "Batch(batch=[10953], edge_attr=[54750, 1], edge_index=[2, 54750], mask=[58, 54750], pos=[10953, 5], x=[10953, 10], y=[10953])\n",
      "Batch(batch=[15647], edge_attr=[78220, 1], edge_index=[2, 78220], mask=[58, 78220], pos=[15647, 5], x=[15647, 10], y=[15647])\n",
      "Batch(batch=[13334], edge_attr=[66655, 1], edge_index=[2, 66655], mask=[58, 66655], pos=[13334, 5], x=[13334, 10], y=[13334])\n",
      "Batch(batch=[10038], edge_attr=[50175, 1], edge_index=[2, 50175], mask=[58, 50175], pos=[10038, 5], x=[10038, 10], y=[10038])\n",
      "Batch(batch=[13569], edge_attr=[67830, 1], edge_index=[2, 67830], mask=[58, 67830], pos=[13569, 5], x=[13569, 10], y=[13569])\n",
      "Batch(batch=[19295], edge_attr=[96460, 1], edge_index=[2, 96460], mask=[58, 96460], pos=[19295, 5], x=[19295, 10], y=[19295])\n",
      "Batch(batch=[17379], edge_attr=[86880, 1], edge_index=[2, 86880], mask=[58, 86880], pos=[17379, 5], x=[17379, 10], y=[17379])\n",
      "Batch(batch=[10725], edge_attr=[53610, 1], edge_index=[2, 53610], mask=[58, 53610], pos=[10725, 5], x=[10725, 10], y=[10725])\n",
      "Batch(batch=[11400], edge_attr=[56985, 1], edge_index=[2, 56985], mask=[58, 56985], pos=[11400, 5], x=[11400, 10], y=[11400])\n",
      "Batch(batch=[13373], edge_attr=[66849, 1], edge_index=[2, 66849], mask=[58, 66849], pos=[13373, 5], x=[13373, 10], y=[13373])\n",
      "Batch(batch=[12951], edge_attr=[64740, 1], edge_index=[2, 64740], mask=[58, 64740], pos=[12951, 5], x=[12951, 10], y=[12951])\n",
      "Batch(batch=[16481], edge_attr=[82390, 1], edge_index=[2, 82390], mask=[58, 82390], pos=[16481, 5], x=[16481, 10], y=[16481])\n",
      "Batch(batch=[17647], edge_attr=[88219, 1], edge_index=[2, 88219], mask=[58, 88219], pos=[17647, 5], x=[17647, 10], y=[17647])\n",
      "Batch(batch=[12719], edge_attr=[63580, 1], edge_index=[2, 63580], mask=[58, 63580], pos=[12719, 5], x=[12719, 10], y=[12719])\n",
      "Batch(batch=[13078], edge_attr=[65375, 1], edge_index=[2, 65375], mask=[58, 65375], pos=[13078, 5], x=[13078, 10], y=[13078])\n",
      "Batch(batch=[9090], edge_attr=[45435, 1], edge_index=[2, 45435], mask=[58, 45435], pos=[9090, 5], x=[9090, 10], y=[9090])\n",
      "Batch(batch=[14336], edge_attr=[71663, 1], edge_index=[2, 71663], mask=[58, 71663], pos=[14336, 5], x=[14336, 10], y=[14336])\n",
      "Batch(batch=[12020], edge_attr=[60085, 1], edge_index=[2, 60085], mask=[58, 60085], pos=[12020, 5], x=[12020, 10], y=[12020])\n"
     ]
    }
   ],
   "source": [
    "for batch in test_loader:\n",
    "    print(batch)"
   ]
  },
  {
   "cell_type": "markdown",
   "metadata": {},
   "source": [
    "----------------"
   ]
  },
  {
   "cell_type": "code",
   "execution_count": 32,
   "metadata": {},
   "outputs": [],
   "source": [
    "criterion = nn.BCELoss()\n",
    "edge_classifier = nn.Sequential(nn.Linear(288*2, 144),\n",
    "                                nn.Tanh(),\n",
    "                                nn.Linear(144, 144),\n",
    "                                nn.Tanh(),\n",
    "                                nn.Linear(144, 32),\n",
    "                                nn.Tanh(),\n",
    "                                nn.Linear(32, 1),\n",
    "                                nn.Sigmoid()).to(device)"
   ]
  },
  {
   "cell_type": "code",
   "execution_count": 33,
   "metadata": {},
   "outputs": [],
   "source": [
    "learning_rate = 1e-3\n",
    "optimizer = torch.optim.Adam(list(model.parameters()) + list(edge_classifier.parameters()), lr=learning_rate)"
   ]
  },
  {
   "cell_type": "code",
   "execution_count": 34,
   "metadata": {},
   "outputs": [
    {
     "data": {
      "image/png": "[encoded data removed]",
      "text/plain": [
       "<Figure size 1152x1152 with 2 Axes>"
      ]
     },
     "metadata": {
      "needs_background": "light"
     },
     "output_type": "display_data"
    },
    {
     "ename": "RuntimeError",
     "evalue": "reduce failed to synchronize: device-side assert triggered",
     "output_type": "error",
     "traceback": [
      "\u001b[0;31m---------------------------------------------------------------------------\u001b[0m",
      "\u001b[0;31mRuntimeError\u001b[0m                              Traceback (most recent call last)",
      "\u001b[0;32m<ipython-input-34-bfdbe2382119>\u001b[0m in \u001b[0;36m<module>\u001b[0;34m\u001b[0m\n\u001b[1;32m     60\u001b[0m \u001b[0;34m\u001b[0m\u001b[0m\n\u001b[1;32m     61\u001b[0m         \u001b[0;31m# calculate the batch loss\u001b[0m\u001b[0;34m\u001b[0m\u001b[0;34m\u001b[0m\u001b[0;34m\u001b[0m\u001b[0m\n\u001b[0;32m---> 62\u001b[0;31m         \u001b[0mloss\u001b[0m \u001b[0;34m=\u001b[0m \u001b[0mcriterion\u001b[0m\u001b[0;34m(\u001b[0m\u001b[0medge_predicted\u001b[0m\u001b[0;34m.\u001b[0m\u001b[0mview\u001b[0m\u001b[0;34m(\u001b[0m\u001b[0;34m-\u001b[0m\u001b[0;36m1\u001b[0m\u001b[0;34m)\u001b[0m\u001b[0;34m,\u001b[0m \u001b[0medge_labels\u001b[0m\u001b[0;34m.\u001b[0m\u001b[0mview\u001b[0m\u001b[0;34m(\u001b[0m\u001b[0;34m-\u001b[0m\u001b[0;36m1\u001b[0m\u001b[0;34m)\u001b[0m\u001b[0;34m.\u001b[0m\u001b[0mfloat\u001b[0m\u001b[0;34m(\u001b[0m\u001b[0;34m)\u001b[0m\u001b[0;34m)\u001b[0m\u001b[0;34m\u001b[0m\u001b[0;34m\u001b[0m\u001b[0m\n\u001b[0m\u001b[1;32m     63\u001b[0m         \u001b[0mloss\u001b[0m\u001b[0;34m.\u001b[0m\u001b[0mbackward\u001b[0m\u001b[0;34m(\u001b[0m\u001b[0;34m)\u001b[0m\u001b[0;34m\u001b[0m\u001b[0;34m\u001b[0m\u001b[0m\n\u001b[1;32m     64\u001b[0m         \u001b[0mtest_losses\u001b[0m\u001b[0;34m.\u001b[0m\u001b[0mappend\u001b[0m\u001b[0;34m(\u001b[0m\u001b[0mloss\u001b[0m\u001b[0;34m.\u001b[0m\u001b[0mdetach\u001b[0m\u001b[0;34m(\u001b[0m\u001b[0;34m)\u001b[0m\u001b[0;34m.\u001b[0m\u001b[0mcpu\u001b[0m\u001b[0;34m(\u001b[0m\u001b[0;34m)\u001b[0m\u001b[0;34m.\u001b[0m\u001b[0mnumpy\u001b[0m\u001b[0;34m(\u001b[0m\u001b[0;34m)\u001b[0m\u001b[0;34m)\u001b[0m\u001b[0;34m\u001b[0m\u001b[0;34m\u001b[0m\u001b[0m\n",
      "\u001b[0;32m~/miniconda/lib/python3.6/site-packages/torch/nn/modules/module.py\u001b[0m in \u001b[0;36m__call__\u001b[0;34m(self, *input, **kwargs)\u001b[0m\n\u001b[1;32m    491\u001b[0m             \u001b[0mresult\u001b[0m \u001b[0;34m=\u001b[0m \u001b[0mself\u001b[0m\u001b[0;34m.\u001b[0m\u001b[0m_slow_forward\u001b[0m\u001b[0;34m(\u001b[0m\u001b[0;34m*\u001b[0m\u001b[0minput\u001b[0m\u001b[0;34m,\u001b[0m \u001b[0;34m**\u001b[0m\u001b[0mkwargs\u001b[0m\u001b[0;34m)\u001b[0m\u001b[0;34m\u001b[0m\u001b[0;34m\u001b[0m\u001b[0m\n\u001b[1;32m    492\u001b[0m         \u001b[0;32melse\u001b[0m\u001b[0;34m:\u001b[0m\u001b[0;34m\u001b[0m\u001b[0;34m\u001b[0m\u001b[0m\n\u001b[0;32m--> 493\u001b[0;31m             \u001b[0mresult\u001b[0m \u001b[0;34m=\u001b[0m \u001b[0mself\u001b[0m\u001b[0;34m.\u001b[0m\u001b[0mforward\u001b[0m\u001b[0;34m(\u001b[0m\u001b[0;34m*\u001b[0m\u001b[0minput\u001b[0m\u001b[0;34m,\u001b[0m \u001b[0;34m**\u001b[0m\u001b[0mkwargs\u001b[0m\u001b[0;34m)\u001b[0m\u001b[0;34m\u001b[0m\u001b[0;34m\u001b[0m\u001b[0m\n\u001b[0m\u001b[1;32m    494\u001b[0m         \u001b[0;32mfor\u001b[0m \u001b[0mhook\u001b[0m \u001b[0;32min\u001b[0m \u001b[0mself\u001b[0m\u001b[0;34m.\u001b[0m\u001b[0m_forward_hooks\u001b[0m\u001b[0;34m.\u001b[0m\u001b[0mvalues\u001b[0m\u001b[0;34m(\u001b[0m\u001b[0;34m)\u001b[0m\u001b[0;34m:\u001b[0m\u001b[0;34m\u001b[0m\u001b[0;34m\u001b[0m\u001b[0m\n\u001b[1;32m    495\u001b[0m             \u001b[0mhook_result\u001b[0m \u001b[0;34m=\u001b[0m \u001b[0mhook\u001b[0m\u001b[0;34m(\u001b[0m\u001b[0mself\u001b[0m\u001b[0;34m,\u001b[0m \u001b[0minput\u001b[0m\u001b[0;34m,\u001b[0m \u001b[0mresult\u001b[0m\u001b[0;34m)\u001b[0m\u001b[0;34m\u001b[0m\u001b[0;34m\u001b[0m\u001b[0m\n",
      "\u001b[0;32m~/miniconda/lib/python3.6/site-packages/torch/nn/modules/loss.py\u001b[0m in \u001b[0;36mforward\u001b[0;34m(self, input, target)\u001b[0m\n\u001b[1;32m    510\u001b[0m     \u001b[0;34m@\u001b[0m\u001b[0mweak_script_method\u001b[0m\u001b[0;34m\u001b[0m\u001b[0;34m\u001b[0m\u001b[0m\n\u001b[1;32m    511\u001b[0m     \u001b[0;32mdef\u001b[0m \u001b[0mforward\u001b[0m\u001b[0;34m(\u001b[0m\u001b[0mself\u001b[0m\u001b[0;34m,\u001b[0m \u001b[0minput\u001b[0m\u001b[0;34m,\u001b[0m \u001b[0mtarget\u001b[0m\u001b[0;34m)\u001b[0m\u001b[0;34m:\u001b[0m\u001b[0;34m\u001b[0m\u001b[0;34m\u001b[0m\u001b[0m\n\u001b[0;32m--> 512\u001b[0;31m         \u001b[0;32mreturn\u001b[0m \u001b[0mF\u001b[0m\u001b[0;34m.\u001b[0m\u001b[0mbinary_cross_entropy\u001b[0m\u001b[0;34m(\u001b[0m\u001b[0minput\u001b[0m\u001b[0;34m,\u001b[0m \u001b[0mtarget\u001b[0m\u001b[0;34m,\u001b[0m \u001b[0mweight\u001b[0m\u001b[0;34m=\u001b[0m\u001b[0mself\u001b[0m\u001b[0;34m.\u001b[0m\u001b[0mweight\u001b[0m\u001b[0;34m,\u001b[0m \u001b[0mreduction\u001b[0m\u001b[0;34m=\u001b[0m\u001b[0mself\u001b[0m\u001b[0;34m.\u001b[0m\u001b[0mreduction\u001b[0m\u001b[0;34m)\u001b[0m\u001b[0;34m\u001b[0m\u001b[0;34m\u001b[0m\u001b[0m\n\u001b[0m\u001b[1;32m    513\u001b[0m \u001b[0;34m\u001b[0m\u001b[0m\n\u001b[1;32m    514\u001b[0m \u001b[0;34m\u001b[0m\u001b[0m\n",
      "\u001b[0;32m~/miniconda/lib/python3.6/site-packages/torch/nn/functional.py\u001b[0m in \u001b[0;36mbinary_cross_entropy\u001b[0;34m(input, target, weight, size_average, reduce, reduction)\u001b[0m\n\u001b[1;32m   2111\u001b[0m \u001b[0;34m\u001b[0m\u001b[0m\n\u001b[1;32m   2112\u001b[0m     return torch._C._nn.binary_cross_entropy(\n\u001b[0;32m-> 2113\u001b[0;31m         input, target, weight, reduction_enum)\n\u001b[0m\u001b[1;32m   2114\u001b[0m \u001b[0;34m\u001b[0m\u001b[0m\n\u001b[1;32m   2115\u001b[0m \u001b[0;34m\u001b[0m\u001b[0m\n",
      "\u001b[0;31mRuntimeError\u001b[0m: reduce failed to synchronize: device-side assert triggered"
     ]
    }
   ],
   "source": [
    "n_epoch = 400\n",
    "\n",
    "train_losses = []\n",
    "\n",
    "test_losses = []\n",
    "\n",
    "accs = []\n",
    "\n",
    "aucs = []\n",
    "    \n",
    "for i in range(1, n_epoch + 1):\n",
    "      \n",
    "    for shower in train_loader:\n",
    "\n",
    "        embeddings = model(shower)\n",
    "\n",
    "\n",
    "        edge_labels = (shower.y[shower.edge_index[0]] \n",
    "                       == shower.y[shower.edge_index[1]])  \n",
    "\n",
    "\n",
    "\n",
    "        edge_data = torch.cat([embeddings[shower.edge_index[0]], \n",
    "                               embeddings[shower.edge_index[1]]], dim=1)\n",
    "\n",
    "\n",
    "        edge_predicted = edge_classifier(edge_data)\n",
    "\n",
    "        \n",
    "        # calculate the batch loss\n",
    "        loss = criterion(edge_predicted.view(-1), edge_labels.view(-1).float())\n",
    "\n",
    "        # Zero gradients, perform a backward pass, and update the weights.\n",
    "        optimizer.zero_grad()\n",
    "        \n",
    "        loss.backward()\n",
    "        \n",
    "        optimizer.step()\n",
    "        \n",
    "        train_losses.append(loss.detach().cpu().numpy())\n",
    "\n",
    "    \n",
    "\n",
    "    for shower in test_loader:\n",
    "        \n",
    "        embeddings = model(shower)\n",
    "\n",
    "\n",
    "        edge_labels = (shower.y[shower.edge_index[0]] \n",
    "                           == shower.y[shower.edge_index[1]])  \n",
    "\n",
    "\n",
    "\n",
    "        edge_data = torch.cat([embeddings[shower.edge_index[0]], \n",
    "                                   embeddings[shower.edge_index[1]]], dim=1)\n",
    "\n",
    "\n",
    "        edge_predicted = edge_classifier(edge_data)\n",
    "\n",
    "\n",
    "        # calculate the batch loss\n",
    "        loss = criterion(edge_predicted.view(-1), edge_labels.view(-1).float())\n",
    "        loss.backward()\n",
    "        test_losses.append(loss.detach().cpu().numpy())\n",
    "\n",
    "        y_true = edge_labels.view(-1).float().cpu().detach().numpy()\n",
    "        y_pred = edge_predicted.view(-1).cpu().detach().numpy()\n",
    "\n",
    "\n",
    "        acc = accuracy_score(y_true, y_pred.round())\n",
    "\n",
    "        accs.append(acc)\n",
    "\n",
    "        auc = roc_auc_score(y_true, y_pred)\n",
    "        \n",
    "        aucs.append(auc)\n",
    "\n",
    "        fpr, tpr, thresholds = roc_curve(y_true, y_pred)\n",
    "\n",
    "        precision, recall, thresholds = precision_recall_curve(y_true, y_pred)\n",
    "\n",
    "        clear_output()\n",
    "        \n",
    "        fig, axs = plt.subplots(nrows=1, ncols=2, sharex=False, figsize=(16,16))\n",
    "\n",
    "        ax = axs[0]\n",
    "        ax.plot([0, 1], [0, 1], linestyle='--')\n",
    "        # plot the roc curve for the model\n",
    "        ax.plot(fpr, tpr, marker='.')\n",
    "        ax.set_title('ROC curve')\n",
    "\n",
    "        ax = axs[1]\n",
    "        ax.plot([0, 1], [0.5, 0.5], linestyle='--')\n",
    "        ax.plot(recall, precision, marker='.')\n",
    "        ax.set_title('Precision-Recall Curve')\n",
    "\n",
    "\n",
    "        fig.suptitle('Test set metrics')\n",
    "\n",
    "        plt.show()\n",
    "\n",
    "    \n",
    "    \n",
    "    \n",
    "    print(\"#%i, Test loss: %.7f\"%(i+1,np.mean(test_losses)),flush=True)\n",
    "    print('mean AUC per batch: %.3f' % np.mean(aucs))\n",
    "    \n",
    "    fig, axs = plt.subplots(nrows=1, ncols=2, sharex=False, figsize=(16,16))\n",
    "    \n",
    "    ax = axs[0]\n",
    "    ax.plot(test_losses)\n",
    "    ax.set_title('Loss')\n",
    "\n",
    "    ax = axs[1]\n",
    "    ax.plot(accs)\n",
    "    ax.set_title('Accuracy')\n",
    "    \n",
    "    #ax = axs[1][0]\n",
    "    #ax.plot([0, 1], [0, 1], linestyle='--')\n",
    "    # plot the roc curve for the model\n",
    "    #ax.plot(fpr, tpr, marker='.')\n",
    "    #ax.set_title('ROC curve')\n",
    "\n",
    "    #ax = axs[1][1]\n",
    "    #ax.plot([0, 1], [0.5, 0.5], linestyle='--')\n",
    "    #ax.plot(recall, precision, marker='.')\n",
    "    #ax.set_title('Precision-Recall Curve')\n",
    "\n",
    "\n",
    "    fig.suptitle('Test set metrics')\n",
    "\n",
    "    plt.show()\n",
    "\n",
    "\n",
    "\n"
   ]
  },
  {
   "cell_type": "code",
   "execution_count": null,
   "metadata": {},
   "outputs": [],
   "source": []
  },
  {
   "cell_type": "code",
   "execution_count": null,
   "metadata": {},
   "outputs": [],
   "source": []
  }
 ],
 "metadata": {
  "kernelspec": {
   "display_name": "Python 3",
   "language": "python",
   "name": "python3"
  },
  "language_info": {
   "codemirror_mode": {
    "name": "ipython",
    "version": 3
   },
   "file_extension": ".py",
   "mimetype": "text/x-python",
   "name": "python",
   "nbconvert_exporter": "python",
   "pygments_lexer": "ipython3",
   "version": "3.6.8"
  }
 },
 "nbformat": 4,
 "nbformat_minor": 2
}
