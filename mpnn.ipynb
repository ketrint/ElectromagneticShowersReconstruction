{
 "cells": [
  {
   "cell_type": "code",
   "execution_count": 31,
   "metadata": {},
   "outputs": [],
   "source": [
    "import matplotlib.pyplot as plt\n",
    "import numpy as np\n",
    "import pandas as pd\n",
    "import seaborn as sns\n",
    "sns.set(font_scale=2)\n",
    "\n",
    "import torch\n",
    "import torch.nn as nn\n",
    "import torch.nn.functional as F\n",
    "import torch.optim as optim\n",
    "from torch.nn import Sequential\n",
    "\n",
    "import torch_geometric\n",
    "from torch_geometric.nn import MessagePassing\n",
    "from torch_geometric.utils import add_self_loops, degree\n",
    "import torch_geometric.transforms as T\n",
    "import torch_cluster\n",
    "\n",
    "from torch_geometric.nn import NNConv, GCNConv, GraphConv\n",
    "from torch_geometric.nn import PointConv, EdgeConv, SplineConv\n",
    "\n",
    "from sklearn.cluster import DBSCAN"
   ]
  },
  {
   "cell_type": "code",
   "execution_count": 2,
   "metadata": {},
   "outputs": [],
   "source": [
    "torch.cuda.device_count()"
   ]
  },
  {
   "cell_type": "code",
   "execution_count": 3,
   "metadata": {},
   "outputs": [],
   "source": [
    "#device = torch.device('cuda:0')\n",
    "device = torch.device('cuda')"
   ]
  },
  {
   "cell_type": "code",
   "execution_count": 4,
   "metadata": {
    "scrolled": true
   },
   "outputs": [],
   "source": [
    "#!pip install --upgrade --force-reinstall torch-sparse && pip install --upgrade --force-reinstall torch-cluster && pip install --upgrade --force-reinstall torch-scatter && pip install --upgrade --force-reinstall torch-spline_conv && pip install --upgrade --force-reinstall torch-geometric"
   ]
  },
  {
   "cell_type": "markdown",
   "metadata": {},
   "source": [
    "## Download train data"
   ]
  },
  {
   "cell_type": "code",
   "execution_count": 6,
   "metadata": {},
   "outputs": [],
   "source": [
    "showers_train=torch.load('./data/showers_train.pt')"
   ]
  },
  {
   "cell_type": "code",
   "execution_count": 7,
   "metadata": {},
   "outputs": [],
   "source": [
    "showers_train = [shower.to(device) for shower in showers_train[:20]]"
   ]
  },
  {
   "cell_type": "markdown",
   "metadata": {},
   "source": [
    "## Features creation"
   ]
  },
  {
   "cell_type": "code",
   "execution_count": 8,
   "metadata": {},
   "outputs": [],
   "source": [
    "for i in range(len(showers_train)):\n",
    "    data = showers_train[i].x\n",
    "    \n",
    "    shape_0 = data.shape[0]\n",
    "    \n",
    "    #azimuthal_angle\n",
    "    feat_0 = torch.atan(data[:, 1]/data[:, 0]).view(shape_0,1)\n",
    "    \n",
    "    feat_1 = (torch.sqrt(torch.pow(data[:, 1], 2) + torch.pow(data[:, 0],2))\n",
    "              /data[:, 2]).view(shape_0,1)\n",
    "    \n",
    "    showers_train[i].x = torch.cat((data, feat_0, feat_1), 1)"
   ]
  },
  {
   "cell_type": "code",
   "execution_count": 9,
   "metadata": {},
   "outputs": [
    {
     "data": {
      "text/plain": [
       "torch.Size([8816, 7])"
      ]
     },
     "execution_count": 9,
     "metadata": {},
     "output_type": "execute_result"
    }
   ],
   "source": [
    "showers_train[0].x.shape"
   ]
  },
  {
   "cell_type": "markdown",
   "metadata": {},
   "source": [
    "## Checking weather edges connect hits from the same shower"
   ]
  },
  {
   "cell_type": "markdown",
   "metadata": {},
   "source": [
    "We need to compare Z-coordinates of each brick layer with our data Z-coordinate"
   ]
  },
  {
   "cell_type": "code",
   "execution_count": 10,
   "metadata": {},
   "outputs": [],
   "source": [
    "Z = np.array([     0.,   1293.,   2586.,   3879.,   5172.,   6465.,   7758.,\n",
    "                          9051.,  10344.,  11637.,  12930.,  14223.,  15516.,  16809.,\n",
    "                         18102.,  19395.,  20688.,  21981.,  23274.,  24567.,  25860.,\n",
    "                         27153.,  28446.,  29739.,  31032.,  32325.,  33618.,  34911.,\n",
    "                         36204.,  37497.,  38790.,  40083.,  41376.,  42669.,  43962.,\n",
    "                         45255.,  46548.,  47841.,  49134.,  50427.,  51720.,  53013.,\n",
    "                         54306.,  55599.,  56892.,  58185.,  59478.,  60771.,  62064.,\n",
    "                         63357.,  64650.,  65943.,  67236.,  68529.,  69822.,  71115.,\n",
    "                         72408.,  73701.])"
   ]
  },
  {
   "cell_type": "code",
   "execution_count": 11,
   "metadata": {},
   "outputs": [],
   "source": [
    "Z_centered = Z - 73701. / 2"
   ]
  },
  {
   "cell_type": "code",
   "execution_count": 12,
   "metadata": {},
   "outputs": [
    {
     "data": {
      "text/plain": [
       "array([-36850.5, -35557.5, -34264.5, -32971.5, -31678.5, -30385.5,\n",
       "       -29092.5, -27799.5, -26506.5, -25213.5, -23920.5, -22627.5,\n",
       "       -21334.5, -20041.5, -18748.5, -17455.5, -16162.5, -14869.5,\n",
       "       -13576.5, -12283.5, -10990.5,  -9697.5,  -8404.5,  -7111.5,\n",
       "        -5818.5,  -4525.5,  -3232.5,  -1939.5,   -646.5,    646.5,\n",
       "         1939.5,   3232.5,   4525.5,   5818.5,   7111.5,   8404.5,\n",
       "         9697.5,  10990.5,  12283.5,  13576.5,  14869.5,  16162.5,\n",
       "        17455.5,  18748.5,  20041.5,  21334.5,  22627.5,  23920.5,\n",
       "        25213.5,  26506.5,  27799.5,  29092.5,  30385.5,  31678.5,\n",
       "        32971.5,  34264.5,  35557.5,  36850.5])"
      ]
     },
     "execution_count": 12,
     "metadata": {},
     "output_type": "execute_result"
    }
   ],
   "source": [
    "Z_centered"
   ]
  },
  {
   "cell_type": "code",
   "execution_count": 13,
   "metadata": {},
   "outputs": [],
   "source": [
    "Z_0 = np.array(showers_train[0].x[:, 2].cpu())*np.array([1e4])"
   ]
  },
  {
   "cell_type": "code",
   "execution_count": 14,
   "metadata": {},
   "outputs": [
    {
     "data": {
      "image/png": "[encoded data removed]",
      "text/plain": [
       "<Figure size 720x360 with 1 Axes>"
      ]
     },
     "metadata": {},
     "output_type": "display_data"
    }
   ],
   "source": [
    "plt.figure(figsize=(10, 5))\n",
    "# the histogram of the data\n",
    "plt.hist(Z_0, 100, density=True)\n",
    "\n",
    "plt.grid(True)\n",
    "plt.show()\n"
   ]
  },
  {
   "cell_type": "markdown",
   "metadata": {},
   "source": [
    "## Masks for activating only those edges that are connecting the same shower"
   ]
  },
  {
   "cell_type": "code",
   "execution_count": 15,
   "metadata": {},
   "outputs": [],
   "source": [
    "def round_Z_coodr(x):\n",
    "        return Z_centered[np.argmin(np.abs(Z_centered - x))]\n",
    "round_Z_coodr = np.vectorize(round_Z_coodr)\n",
    "    \n",
    "def mask(data):\n",
    "    x = data.x[:, 2]\n",
    "    \n",
    "    Z_0 = np.array(x.cpu())*np.array([1e4])\n",
    "    \n",
    "    z_rounded = round_Z_coodr(Z_0)\n",
    "    \n",
    "    orders = np.zeros((len(Z_centered), len(z_rounded)))\n",
    "\n",
    "    for i, z_i in enumerate(Z_centered):\n",
    "        for j, z_0_i in enumerate(z_rounded):\n",
    "            orders[i][j] = int(z_0_i == z_i)\n",
    "            \n",
    "    return orders"
   ]
  },
  {
   "cell_type": "code",
   "execution_count": 16,
   "metadata": {},
   "outputs": [],
   "source": [
    "masks = []\n",
    "for i in range(len(showers_train)):\n",
    "    masks.append(mask(showers_train[i]))"
   ]
  },
  {
   "cell_type": "code",
   "execution_count": 17,
   "metadata": {},
   "outputs": [
    {
     "data": {
      "text/plain": [
       "3"
      ]
     },
     "execution_count": 17,
     "metadata": {},
     "output_type": "execute_result"
    }
   ],
   "source": [
    "len(masks)"
   ]
  },
  {
   "cell_type": "markdown",
   "metadata": {},
   "source": [
    "## GNN "
   ]
  },
  {
   "cell_type": "code",
   "execution_count": 120,
   "metadata": {},
   "outputs": [],
   "source": [
    "class EmulsionConv(MessagePassing):\n",
    "    def __init__(self, in_channels, out_channels):\n",
    "        super().__init__(aggr='add')\n",
    "        self.mp = torch.nn.Linear(in_channels * 2, out_channels)\n",
    "        \n",
    "    def forward(self, x, edge_index, orders):\n",
    "        for order in orders: \n",
    "            x = self.propagate('add', \n",
    "                               torch.index_select(edge_index[:, order], 0, torch.LongTensor([1, 0]).to('cuda')), x=x)     \n",
    "        return x\n",
    "\n",
    "    def message(self, x_j, x_i):\n",
    "        return self.mp(torch.cat([x_i, x_j - x_i], dim=1))\n",
    "\n",
    "    def update(self, aggr_out, x):\n",
    "        return aggr_out + x"
   ]
  },
  {
   "cell_type": "code",
   "execution_count": 121,
   "metadata": {},
   "outputs": [],
   "source": [
    "class GraphNN_KNN(torch.nn.Module):\n",
    "    def __init__(self, k=7, dim_out=10):\n",
    "        super().__init__()\n",
    "        self.k = k\n",
    "        self.emconv = EmulsionConv(self.k, dim_out)\n",
    "        \n",
    "        \n",
    "    def forward(self, data, mask):\n",
    "        x, edge_index, orders = data.x, data.edge_index, mask\n",
    "        x = self.emconv(x=x, edge_index=edge_index, orders=orders)\n",
    "        return x"
   ]
  },
  {
   "cell_type": "code",
   "execution_count": 122,
   "metadata": {},
   "outputs": [
    {
     "data": {
      "text/plain": [
       "torch.Size([8816, 7])"
      ]
     },
     "execution_count": 122,
     "metadata": {},
     "output_type": "execute_result"
    }
   ],
   "source": [
    "showers_train[0].x.shape"
   ]
  },
  {
   "cell_type": "code",
   "execution_count": 123,
   "metadata": {},
   "outputs": [],
   "source": [
    "model = GraphNN_KNN(dim_out=7).to(device)"
   ]
  },
  {
   "cell_type": "code",
   "execution_count": 124,
   "metadata": {},
   "outputs": [],
   "source": [
    "learning_rate = 1e-3\n",
    "optimizer = torch.optim.Adam(model.parameters(), lr=learning_rate)"
   ]
  },
  {
   "cell_type": "code",
   "execution_count": 125,
   "metadata": {},
   "outputs": [
    {
     "data": {
      "text/plain": [
       "[Data(edge_attr=[44065, 1], edge_index=[2, 44065], pos=[8816, 5], x=[8816, 7], y=[8816]),\n",
       " Data(edge_attr=[31765, 1], edge_index=[2, 31765], pos=[6356, 5], x=[6356, 7], y=[6356]),\n",
       " Data(edge_attr=[50505, 1], edge_index=[2, 50505], pos=[10104, 5], x=[10104, 7], y=[10104])]"
      ]
     },
     "execution_count": 125,
     "metadata": {},
     "output_type": "execute_result"
    }
   ],
   "source": [
    "showers_train"
   ]
  },
  {
   "cell_type": "markdown",
   "metadata": {},
   "source": [
    "----------------"
   ]
  },
  {
   "cell_type": "code",
   "execution_count": 126,
   "metadata": {},
   "outputs": [
    {
     "name": "stderr",
     "output_type": "stream",
     "text": [
      "100%|██████████| 3/3 [00:00<00:00, 18.03it/s]\n"
     ]
    }
   ],
   "source": [
    "embeddings = []\n",
    "\n",
    "from tqdm import tqdm\n",
    "for i in tqdm(range(3)):\n",
    "    mask = masks[i % len(showers_train)]\n",
    "    shower = showers_train[i % len(showers_train)]\n",
    "    optimizer.zero_grad()\n",
    "    embeddings.append(model(shower, mask))"
   ]
  },
  {
   "cell_type": "code",
   "execution_count": 127,
   "metadata": {},
   "outputs": [
    {
     "data": {
      "text/plain": [
       "[tensor([[-0.7158,  0.7326, -1.4149,  ..., -0.0997, -0.7970, -0.7239],\n",
       "         [    nan,     nan,     nan,  ...,     nan,     nan,     nan],\n",
       "         [-0.7131,  0.7200, -1.2875,  ..., -0.0965, -0.7902, -0.7870],\n",
       "         ...,\n",
       "         [-0.1940, -0.2138,  3.4226,  ..., -0.0835,  0.8339,  0.0843],\n",
       "         [-0.1693,  0.8420,  3.4226,  ...,  0.2154, -1.3724,  0.2509],\n",
       "         [-0.4229,  0.8779,  3.4226,  ..., -0.0833, -1.1219,  0.2847]],\n",
       "        device='cuda:0', grad_fn=<AddBackward0>),\n",
       " tensor([[-0.4929, -0.8414, -1.1604,  ..., -0.0467,  1.0408, -0.8403],\n",
       "         [    nan,     nan,     nan,  ...,     nan,     nan,     nan],\n",
       "         [-0.4727, -0.8528, -0.9057,  ..., -0.0497,  1.0647, -1.0766],\n",
       "         ...,\n",
       "         [-0.5056, -0.5523,  3.4226,  ..., -0.2649,  0.8295,  0.2188],\n",
       "         [-0.2451, -0.2469,  3.4226,  ..., -0.2312,  0.7890,  0.1017],\n",
       "         [-0.3822,  0.5576,  3.4228,  ...,  0.2637, -0.9699,  0.1975]],\n",
       "        device='cuda:0', grad_fn=<AddBackward0>),\n",
       " tensor([[ 6.2146e-01, -1.1140e+00, -3.3242e+00,  ...,  3.4948e-02,\n",
       "          -1.0619e+00, -3.8373e-01],\n",
       "         [ 6.0620e-01, -1.1097e+00, -3.1968e+00,  ...,  3.5688e-02,\n",
       "          -1.0708e+00, -3.9554e-01],\n",
       "         [ 5.9104e-01, -1.1055e+00, -3.0695e+00,  ...,  3.4889e-02,\n",
       "          -1.0798e+00, -4.0841e-01],\n",
       "         ...,\n",
       "         [ 2.0824e-01,  6.7931e-01,  3.4227e+00,  ...,  2.6880e-03,\n",
       "           1.2733e+00,  2.0759e-01],\n",
       "         [ 1.2707e-01,  5.2760e-01,  3.4228e+00,  ...,  2.0272e-02,\n",
       "           1.3345e+00,  1.5855e-01],\n",
       "         [ 1.9182e-01,  7.3683e-01,  3.4227e+00,  ...,  1.3416e-01,\n",
       "           1.3161e+00,  2.2246e-01]], device='cuda:0', grad_fn=<AddBackward0>)]"
      ]
     },
     "execution_count": 127,
     "metadata": {},
     "output_type": "execute_result"
    }
   ],
   "source": [
    "embeddings"
   ]
  },
  {
   "cell_type": "code",
   "execution_count": 128,
   "metadata": {},
   "outputs": [],
   "source": [
    "predicted_labels = []\n",
    "\n",
    "for embedding in embeddings:\n",
    "    data = np.nan_to_num(embedding.cpu().detach().numpy())\n",
    "    dbscan = DBSCAN()\n",
    "    pred = dbscan.fit_predict(data)\n",
    "    predicted_labels.append(pred)"
   ]
  },
  {
   "cell_type": "code",
   "execution_count": 129,
   "metadata": {},
   "outputs": [
    {
     "name": "stdout",
     "output_type": "stream",
     "text": [
      "0 50\n",
      "1 40\n",
      "2 41\n"
     ]
    }
   ],
   "source": [
    "for i in range(len(predicted_labels)):\n",
    "    print(i, len(np.unique(predicted_labels[i])))\n"
   ]
  },
  {
   "cell_type": "code",
   "execution_count": 130,
   "metadata": {},
   "outputs": [],
   "source": [
    "from sklearn import metrics"
   ]
  },
  {
   "cell_type": "code",
   "execution_count": 134,
   "metadata": {},
   "outputs": [
    {
     "name": "stdout",
     "output_type": "stream",
     "text": [
      "0 0.2607371032155714\n",
      "1 0.2566908115701198\n",
      "2 0.46643524479400594\n"
     ]
    },
    {
     "name": "stderr",
     "output_type": "stream",
     "text": [
      "/root/miniconda/lib/python3.6/site-packages/sklearn/metrics/cluster/supervised.py:844: FutureWarning: The behavior of NMI will change in version 0.22. To match the behavior of 'v_measure_score', NMI will use average_method='arithmetic' by default.\n",
      "  FutureWarning)\n"
     ]
    }
   ],
   "source": [
    "for i in range(len(predicted_labels)):\n",
    "    \n",
    "    print(i, metrics.normalized_mutual_info_score(showers_train[i].y.cpu().detach().numpy(), predicted_labels[i]))"
   ]
  },
  {
   "cell_type": "code",
   "execution_count": 135,
   "metadata": {},
   "outputs": [],
   "source": [
    "##need for further work on net architecture "
   ]
  },
  {
   "cell_type": "markdown",
   "metadata": {},
   "source": [
    "_________________"
   ]
  }
 ],
 "metadata": {
  "kernelspec": {
   "display_name": "Python 3",
   "language": "python",
   "name": "python3"
  },
  "language_info": {
   "codemirror_mode": {
    "name": "ipython",
    "version": 3
   },
   "file_extension": ".py",
   "mimetype": "text/x-python",
   "name": "python",
   "nbconvert_exporter": "python",
   "pygments_lexer": "ipython3",
   "version": "3.6.7"
  }
 },
 "nbformat": 4,
 "nbformat_minor": 2
}
